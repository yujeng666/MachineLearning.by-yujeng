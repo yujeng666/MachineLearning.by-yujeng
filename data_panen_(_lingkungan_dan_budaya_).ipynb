{
  "nbformat": 4,
  "nbformat_minor": 0,
  "metadata": {
    "colab": {
      "provenance": []
    },
    "kernelspec": {
      "name": "python3",
      "display_name": "Python 3"
    },
    "language_info": {
      "name": "python"
    }
  },
  "cells": [
    {
      "cell_type": "code",
      "execution_count": 42,
      "metadata": {
        "colab": {
          "base_uri": "https://localhost:8080/"
        },
        "id": "EZgIe1dYfd-x",
        "outputId": "b5bdf5c2-df6e-4219-f743-f808ff1ca48a"
      },
      "outputs": [
        {
          "output_type": "stream",
          "name": "stdout",
          "text": [
            "Drive already mounted at /content/drive; to attempt to forcibly remount, call drive.mount(\"/content/drive\", force_remount=True).\n"
          ]
        }
      ],
      "source": [
        "from google.colab import drive\n",
        "drive.mount('/content/drive')"
      ]
    },
    {
      "cell_type": "code",
      "source": [
        "import pandas as pd\n",
        "\n",
        "path ='/content/drive/MyDrive/CSV/produksi-panen- - LUAS-PANEN-DI-JABAR.csv'\n",
        "df = pd.read_csv(path)\n",
        "df.describe()"
      ],
      "metadata": {
        "colab": {
          "base_uri": "https://localhost:8080/",
          "height": 300
        },
        "id": "2l7tKb-IhwqA",
        "outputId": "5b429ed8-dda7-479c-93f1-65a7a1ac9799"
      },
      "execution_count": 43,
      "outputs": [
        {
          "output_type": "execute_result",
          "data": {
            "text/plain": [
              "             tahun  luas_panen  jumlah_produksi\n",
              "count    27.000000   27.000000        27.000000\n",
              "mean   2009.629630   33.259259       379.333333\n",
              "std       1.779113   29.935305       398.592041\n",
              "min    2007.000000    1.000000         1.000000\n",
              "25%    2008.000000   13.500000        78.000000\n",
              "50%    2010.000000   20.000000       200.000000\n",
              "75%    2011.000000   54.000000       639.000000\n",
              "max    2013.000000  105.000000      1216.000000"
            ],
            "text/html": [
              "\n",
              "  <div id=\"df-c3252470-eac5-4cc0-857d-87c845c3538a\">\n",
              "    <div class=\"colab-df-container\">\n",
              "      <div>\n",
              "<style scoped>\n",
              "    .dataframe tbody tr th:only-of-type {\n",
              "        vertical-align: middle;\n",
              "    }\n",
              "\n",
              "    .dataframe tbody tr th {\n",
              "        vertical-align: top;\n",
              "    }\n",
              "\n",
              "    .dataframe thead th {\n",
              "        text-align: right;\n",
              "    }\n",
              "</style>\n",
              "<table border=\"1\" class=\"dataframe\">\n",
              "  <thead>\n",
              "    <tr style=\"text-align: right;\">\n",
              "      <th></th>\n",
              "      <th>tahun</th>\n",
              "      <th>luas_panen</th>\n",
              "      <th>jumlah_produksi</th>\n",
              "    </tr>\n",
              "  </thead>\n",
              "  <tbody>\n",
              "    <tr>\n",
              "      <th>count</th>\n",
              "      <td>27.000000</td>\n",
              "      <td>27.000000</td>\n",
              "      <td>27.000000</td>\n",
              "    </tr>\n",
              "    <tr>\n",
              "      <th>mean</th>\n",
              "      <td>2009.629630</td>\n",
              "      <td>33.259259</td>\n",
              "      <td>379.333333</td>\n",
              "    </tr>\n",
              "    <tr>\n",
              "      <th>std</th>\n",
              "      <td>1.779113</td>\n",
              "      <td>29.935305</td>\n",
              "      <td>398.592041</td>\n",
              "    </tr>\n",
              "    <tr>\n",
              "      <th>min</th>\n",
              "      <td>2007.000000</td>\n",
              "      <td>1.000000</td>\n",
              "      <td>1.000000</td>\n",
              "    </tr>\n",
              "    <tr>\n",
              "      <th>25%</th>\n",
              "      <td>2008.000000</td>\n",
              "      <td>13.500000</td>\n",
              "      <td>78.000000</td>\n",
              "    </tr>\n",
              "    <tr>\n",
              "      <th>50%</th>\n",
              "      <td>2010.000000</td>\n",
              "      <td>20.000000</td>\n",
              "      <td>200.000000</td>\n",
              "    </tr>\n",
              "    <tr>\n",
              "      <th>75%</th>\n",
              "      <td>2011.000000</td>\n",
              "      <td>54.000000</td>\n",
              "      <td>639.000000</td>\n",
              "    </tr>\n",
              "    <tr>\n",
              "      <th>max</th>\n",
              "      <td>2013.000000</td>\n",
              "      <td>105.000000</td>\n",
              "      <td>1216.000000</td>\n",
              "    </tr>\n",
              "  </tbody>\n",
              "</table>\n",
              "</div>\n",
              "      <button class=\"colab-df-convert\" onclick=\"convertToInteractive('df-c3252470-eac5-4cc0-857d-87c845c3538a')\"\n",
              "              title=\"Convert this dataframe to an interactive table.\"\n",
              "              style=\"display:none;\">\n",
              "        \n",
              "  <svg xmlns=\"http://www.w3.org/2000/svg\" height=\"24px\"viewBox=\"0 0 24 24\"\n",
              "       width=\"24px\">\n",
              "    <path d=\"M0 0h24v24H0V0z\" fill=\"none\"/>\n",
              "    <path d=\"M18.56 5.44l.94 2.06.94-2.06 2.06-.94-2.06-.94-.94-2.06-.94 2.06-2.06.94zm-11 1L8.5 8.5l.94-2.06 2.06-.94-2.06-.94L8.5 2.5l-.94 2.06-2.06.94zm10 10l.94 2.06.94-2.06 2.06-.94-2.06-.94-.94-2.06-.94 2.06-2.06.94z\"/><path d=\"M17.41 7.96l-1.37-1.37c-.4-.4-.92-.59-1.43-.59-.52 0-1.04.2-1.43.59L10.3 9.45l-7.72 7.72c-.78.78-.78 2.05 0 2.83L4 21.41c.39.39.9.59 1.41.59.51 0 1.02-.2 1.41-.59l7.78-7.78 2.81-2.81c.8-.78.8-2.07 0-2.86zM5.41 20L4 18.59l7.72-7.72 1.47 1.35L5.41 20z\"/>\n",
              "  </svg>\n",
              "      </button>\n",
              "      \n",
              "  <style>\n",
              "    .colab-df-container {\n",
              "      display:flex;\n",
              "      flex-wrap:wrap;\n",
              "      gap: 12px;\n",
              "    }\n",
              "\n",
              "    .colab-df-convert {\n",
              "      background-color: #E8F0FE;\n",
              "      border: none;\n",
              "      border-radius: 50%;\n",
              "      cursor: pointer;\n",
              "      display: none;\n",
              "      fill: #1967D2;\n",
              "      height: 32px;\n",
              "      padding: 0 0 0 0;\n",
              "      width: 32px;\n",
              "    }\n",
              "\n",
              "    .colab-df-convert:hover {\n",
              "      background-color: #E2EBFA;\n",
              "      box-shadow: 0px 1px 2px rgba(60, 64, 67, 0.3), 0px 1px 3px 1px rgba(60, 64, 67, 0.15);\n",
              "      fill: #174EA6;\n",
              "    }\n",
              "\n",
              "    [theme=dark] .colab-df-convert {\n",
              "      background-color: #3B4455;\n",
              "      fill: #D2E3FC;\n",
              "    }\n",
              "\n",
              "    [theme=dark] .colab-df-convert:hover {\n",
              "      background-color: #434B5C;\n",
              "      box-shadow: 0px 1px 3px 1px rgba(0, 0, 0, 0.15);\n",
              "      filter: drop-shadow(0px 1px 2px rgba(0, 0, 0, 0.3));\n",
              "      fill: #FFFFFF;\n",
              "    }\n",
              "  </style>\n",
              "\n",
              "      <script>\n",
              "        const buttonEl =\n",
              "          document.querySelector('#df-c3252470-eac5-4cc0-857d-87c845c3538a button.colab-df-convert');\n",
              "        buttonEl.style.display =\n",
              "          google.colab.kernel.accessAllowed ? 'block' : 'none';\n",
              "\n",
              "        async function convertToInteractive(key) {\n",
              "          const element = document.querySelector('#df-c3252470-eac5-4cc0-857d-87c845c3538a');\n",
              "          const dataTable =\n",
              "            await google.colab.kernel.invokeFunction('convertToInteractive',\n",
              "                                                     [key], {});\n",
              "          if (!dataTable) return;\n",
              "\n",
              "          const docLinkHtml = 'Like what you see? Visit the ' +\n",
              "            '<a target=\"_blank\" href=https://colab.research.google.com/notebooks/data_table.ipynb>data table notebook</a>'\n",
              "            + ' to learn more about interactive tables.';\n",
              "          element.innerHTML = '';\n",
              "          dataTable['output_type'] = 'display_data';\n",
              "          await google.colab.output.renderOutput(dataTable, element);\n",
              "          const docLink = document.createElement('div');\n",
              "          docLink.innerHTML = docLinkHtml;\n",
              "          element.appendChild(docLink);\n",
              "        }\n",
              "      </script>\n",
              "    </div>\n",
              "  </div>\n",
              "  "
            ]
          },
          "metadata": {},
          "execution_count": 43
        }
      ]
    },
    {
      "cell_type": "code",
      "source": [
        "df"
      ],
      "metadata": {
        "colab": {
          "base_uri": "https://localhost:8080/",
          "height": 896
        },
        "id": "IUUk3pUDiH4Y",
        "outputId": "be8c34ca-20fb-43d7-e4ee-644375c6c64b"
      },
      "execution_count": 44,
      "outputs": [
        {
          "output_type": "execute_result",
          "data": {
            "text/plain": [
              "    tahun jenis_komoditi  luas_panen satuan_luas  jumlah_produksi  \\\n",
              "0    2012   Kacang Tanah           1          Ha                1   \n",
              "1    2012         Jagung           3          Ha                2   \n",
              "2    2012       Ubi Kayu           4          Ha                6   \n",
              "3    2011   Kacang Tanah           7          Ha                7   \n",
              "4    2009   Kacang Tanah           9          Ha                9   \n",
              "5    2010   Kacang Tanah           9          Ha               15   \n",
              "6    2011         Jagung          12          Ha               55   \n",
              "7    2010         Jagung          15          Ha              101   \n",
              "8    2011       Ubi Kayu          15          Ha              106   \n",
              "9    2009         Jagung          16          Ha              148   \n",
              "10   2008   Kacang Tanah          17          Ha              157   \n",
              "11   2007   Kacang Tanah          18          Ha              195   \n",
              "12   2007         Jagung          20          Ha              198   \n",
              "13   2008         Jagung          20          Ha              200   \n",
              "14   2010   Ketela Pohon          25          Ha              280   \n",
              "15   2010       Ubi Kayu          25          Ha              285   \n",
              "16   2009   Ketela Pohon          26          Ha              305   \n",
              "17   2009       Ubi Kayu          26          Ha              305   \n",
              "18   2008   Ketela Pohon          39          Ha              454   \n",
              "19   2007   Ketela Pohon          54          Ha              628   \n",
              "20   2007           Padi          54          Ha              650   \n",
              "21   2011           Padi          56          Ha              751   \n",
              "22   2008           Padi          64          Ha              835   \n",
              "23   2013           Padi          74          Ha             1026   \n",
              "24   2012           Padi          87          Ha             1104   \n",
              "25   2009           Padi          97          Ha             1203   \n",
              "26   2010           Padi         105          Ha             1216   \n",
              "\n",
              "   satuan_produksi  \n",
              "0              Ton  \n",
              "1              Ton  \n",
              "2              Ton  \n",
              "3              Ton  \n",
              "4              Ton  \n",
              "5              Ton  \n",
              "6              Ton  \n",
              "7              Ton  \n",
              "8              Ton  \n",
              "9              Ton  \n",
              "10             Ton  \n",
              "11             Ton  \n",
              "12             Ton  \n",
              "13             Ton  \n",
              "14             Ton  \n",
              "15             Ton  \n",
              "16             Ton  \n",
              "17             Ton  \n",
              "18             Ton  \n",
              "19             Ton  \n",
              "20             Ton  \n",
              "21             Ton  \n",
              "22             Ton  \n",
              "23             Ton  \n",
              "24             Ton  \n",
              "25             Ton  \n",
              "26             Ton  "
            ],
            "text/html": [
              "\n",
              "  <div id=\"df-e697c9a8-5d3a-427d-892e-c1a390573cd6\">\n",
              "    <div class=\"colab-df-container\">\n",
              "      <div>\n",
              "<style scoped>\n",
              "    .dataframe tbody tr th:only-of-type {\n",
              "        vertical-align: middle;\n",
              "    }\n",
              "\n",
              "    .dataframe tbody tr th {\n",
              "        vertical-align: top;\n",
              "    }\n",
              "\n",
              "    .dataframe thead th {\n",
              "        text-align: right;\n",
              "    }\n",
              "</style>\n",
              "<table border=\"1\" class=\"dataframe\">\n",
              "  <thead>\n",
              "    <tr style=\"text-align: right;\">\n",
              "      <th></th>\n",
              "      <th>tahun</th>\n",
              "      <th>jenis_komoditi</th>\n",
              "      <th>luas_panen</th>\n",
              "      <th>satuan_luas</th>\n",
              "      <th>jumlah_produksi</th>\n",
              "      <th>satuan_produksi</th>\n",
              "    </tr>\n",
              "  </thead>\n",
              "  <tbody>\n",
              "    <tr>\n",
              "      <th>0</th>\n",
              "      <td>2012</td>\n",
              "      <td>Kacang Tanah</td>\n",
              "      <td>1</td>\n",
              "      <td>Ha</td>\n",
              "      <td>1</td>\n",
              "      <td>Ton</td>\n",
              "    </tr>\n",
              "    <tr>\n",
              "      <th>1</th>\n",
              "      <td>2012</td>\n",
              "      <td>Jagung</td>\n",
              "      <td>3</td>\n",
              "      <td>Ha</td>\n",
              "      <td>2</td>\n",
              "      <td>Ton</td>\n",
              "    </tr>\n",
              "    <tr>\n",
              "      <th>2</th>\n",
              "      <td>2012</td>\n",
              "      <td>Ubi Kayu</td>\n",
              "      <td>4</td>\n",
              "      <td>Ha</td>\n",
              "      <td>6</td>\n",
              "      <td>Ton</td>\n",
              "    </tr>\n",
              "    <tr>\n",
              "      <th>3</th>\n",
              "      <td>2011</td>\n",
              "      <td>Kacang Tanah</td>\n",
              "      <td>7</td>\n",
              "      <td>Ha</td>\n",
              "      <td>7</td>\n",
              "      <td>Ton</td>\n",
              "    </tr>\n",
              "    <tr>\n",
              "      <th>4</th>\n",
              "      <td>2009</td>\n",
              "      <td>Kacang Tanah</td>\n",
              "      <td>9</td>\n",
              "      <td>Ha</td>\n",
              "      <td>9</td>\n",
              "      <td>Ton</td>\n",
              "    </tr>\n",
              "    <tr>\n",
              "      <th>5</th>\n",
              "      <td>2010</td>\n",
              "      <td>Kacang Tanah</td>\n",
              "      <td>9</td>\n",
              "      <td>Ha</td>\n",
              "      <td>15</td>\n",
              "      <td>Ton</td>\n",
              "    </tr>\n",
              "    <tr>\n",
              "      <th>6</th>\n",
              "      <td>2011</td>\n",
              "      <td>Jagung</td>\n",
              "      <td>12</td>\n",
              "      <td>Ha</td>\n",
              "      <td>55</td>\n",
              "      <td>Ton</td>\n",
              "    </tr>\n",
              "    <tr>\n",
              "      <th>7</th>\n",
              "      <td>2010</td>\n",
              "      <td>Jagung</td>\n",
              "      <td>15</td>\n",
              "      <td>Ha</td>\n",
              "      <td>101</td>\n",
              "      <td>Ton</td>\n",
              "    </tr>\n",
              "    <tr>\n",
              "      <th>8</th>\n",
              "      <td>2011</td>\n",
              "      <td>Ubi Kayu</td>\n",
              "      <td>15</td>\n",
              "      <td>Ha</td>\n",
              "      <td>106</td>\n",
              "      <td>Ton</td>\n",
              "    </tr>\n",
              "    <tr>\n",
              "      <th>9</th>\n",
              "      <td>2009</td>\n",
              "      <td>Jagung</td>\n",
              "      <td>16</td>\n",
              "      <td>Ha</td>\n",
              "      <td>148</td>\n",
              "      <td>Ton</td>\n",
              "    </tr>\n",
              "    <tr>\n",
              "      <th>10</th>\n",
              "      <td>2008</td>\n",
              "      <td>Kacang Tanah</td>\n",
              "      <td>17</td>\n",
              "      <td>Ha</td>\n",
              "      <td>157</td>\n",
              "      <td>Ton</td>\n",
              "    </tr>\n",
              "    <tr>\n",
              "      <th>11</th>\n",
              "      <td>2007</td>\n",
              "      <td>Kacang Tanah</td>\n",
              "      <td>18</td>\n",
              "      <td>Ha</td>\n",
              "      <td>195</td>\n",
              "      <td>Ton</td>\n",
              "    </tr>\n",
              "    <tr>\n",
              "      <th>12</th>\n",
              "      <td>2007</td>\n",
              "      <td>Jagung</td>\n",
              "      <td>20</td>\n",
              "      <td>Ha</td>\n",
              "      <td>198</td>\n",
              "      <td>Ton</td>\n",
              "    </tr>\n",
              "    <tr>\n",
              "      <th>13</th>\n",
              "      <td>2008</td>\n",
              "      <td>Jagung</td>\n",
              "      <td>20</td>\n",
              "      <td>Ha</td>\n",
              "      <td>200</td>\n",
              "      <td>Ton</td>\n",
              "    </tr>\n",
              "    <tr>\n",
              "      <th>14</th>\n",
              "      <td>2010</td>\n",
              "      <td>Ketela Pohon</td>\n",
              "      <td>25</td>\n",
              "      <td>Ha</td>\n",
              "      <td>280</td>\n",
              "      <td>Ton</td>\n",
              "    </tr>\n",
              "    <tr>\n",
              "      <th>15</th>\n",
              "      <td>2010</td>\n",
              "      <td>Ubi Kayu</td>\n",
              "      <td>25</td>\n",
              "      <td>Ha</td>\n",
              "      <td>285</td>\n",
              "      <td>Ton</td>\n",
              "    </tr>\n",
              "    <tr>\n",
              "      <th>16</th>\n",
              "      <td>2009</td>\n",
              "      <td>Ketela Pohon</td>\n",
              "      <td>26</td>\n",
              "      <td>Ha</td>\n",
              "      <td>305</td>\n",
              "      <td>Ton</td>\n",
              "    </tr>\n",
              "    <tr>\n",
              "      <th>17</th>\n",
              "      <td>2009</td>\n",
              "      <td>Ubi Kayu</td>\n",
              "      <td>26</td>\n",
              "      <td>Ha</td>\n",
              "      <td>305</td>\n",
              "      <td>Ton</td>\n",
              "    </tr>\n",
              "    <tr>\n",
              "      <th>18</th>\n",
              "      <td>2008</td>\n",
              "      <td>Ketela Pohon</td>\n",
              "      <td>39</td>\n",
              "      <td>Ha</td>\n",
              "      <td>454</td>\n",
              "      <td>Ton</td>\n",
              "    </tr>\n",
              "    <tr>\n",
              "      <th>19</th>\n",
              "      <td>2007</td>\n",
              "      <td>Ketela Pohon</td>\n",
              "      <td>54</td>\n",
              "      <td>Ha</td>\n",
              "      <td>628</td>\n",
              "      <td>Ton</td>\n",
              "    </tr>\n",
              "    <tr>\n",
              "      <th>20</th>\n",
              "      <td>2007</td>\n",
              "      <td>Padi</td>\n",
              "      <td>54</td>\n",
              "      <td>Ha</td>\n",
              "      <td>650</td>\n",
              "      <td>Ton</td>\n",
              "    </tr>\n",
              "    <tr>\n",
              "      <th>21</th>\n",
              "      <td>2011</td>\n",
              "      <td>Padi</td>\n",
              "      <td>56</td>\n",
              "      <td>Ha</td>\n",
              "      <td>751</td>\n",
              "      <td>Ton</td>\n",
              "    </tr>\n",
              "    <tr>\n",
              "      <th>22</th>\n",
              "      <td>2008</td>\n",
              "      <td>Padi</td>\n",
              "      <td>64</td>\n",
              "      <td>Ha</td>\n",
              "      <td>835</td>\n",
              "      <td>Ton</td>\n",
              "    </tr>\n",
              "    <tr>\n",
              "      <th>23</th>\n",
              "      <td>2013</td>\n",
              "      <td>Padi</td>\n",
              "      <td>74</td>\n",
              "      <td>Ha</td>\n",
              "      <td>1026</td>\n",
              "      <td>Ton</td>\n",
              "    </tr>\n",
              "    <tr>\n",
              "      <th>24</th>\n",
              "      <td>2012</td>\n",
              "      <td>Padi</td>\n",
              "      <td>87</td>\n",
              "      <td>Ha</td>\n",
              "      <td>1104</td>\n",
              "      <td>Ton</td>\n",
              "    </tr>\n",
              "    <tr>\n",
              "      <th>25</th>\n",
              "      <td>2009</td>\n",
              "      <td>Padi</td>\n",
              "      <td>97</td>\n",
              "      <td>Ha</td>\n",
              "      <td>1203</td>\n",
              "      <td>Ton</td>\n",
              "    </tr>\n",
              "    <tr>\n",
              "      <th>26</th>\n",
              "      <td>2010</td>\n",
              "      <td>Padi</td>\n",
              "      <td>105</td>\n",
              "      <td>Ha</td>\n",
              "      <td>1216</td>\n",
              "      <td>Ton</td>\n",
              "    </tr>\n",
              "  </tbody>\n",
              "</table>\n",
              "</div>\n",
              "      <button class=\"colab-df-convert\" onclick=\"convertToInteractive('df-e697c9a8-5d3a-427d-892e-c1a390573cd6')\"\n",
              "              title=\"Convert this dataframe to an interactive table.\"\n",
              "              style=\"display:none;\">\n",
              "        \n",
              "  <svg xmlns=\"http://www.w3.org/2000/svg\" height=\"24px\"viewBox=\"0 0 24 24\"\n",
              "       width=\"24px\">\n",
              "    <path d=\"M0 0h24v24H0V0z\" fill=\"none\"/>\n",
              "    <path d=\"M18.56 5.44l.94 2.06.94-2.06 2.06-.94-2.06-.94-.94-2.06-.94 2.06-2.06.94zm-11 1L8.5 8.5l.94-2.06 2.06-.94-2.06-.94L8.5 2.5l-.94 2.06-2.06.94zm10 10l.94 2.06.94-2.06 2.06-.94-2.06-.94-.94-2.06-.94 2.06-2.06.94z\"/><path d=\"M17.41 7.96l-1.37-1.37c-.4-.4-.92-.59-1.43-.59-.52 0-1.04.2-1.43.59L10.3 9.45l-7.72 7.72c-.78.78-.78 2.05 0 2.83L4 21.41c.39.39.9.59 1.41.59.51 0 1.02-.2 1.41-.59l7.78-7.78 2.81-2.81c.8-.78.8-2.07 0-2.86zM5.41 20L4 18.59l7.72-7.72 1.47 1.35L5.41 20z\"/>\n",
              "  </svg>\n",
              "      </button>\n",
              "      \n",
              "  <style>\n",
              "    .colab-df-container {\n",
              "      display:flex;\n",
              "      flex-wrap:wrap;\n",
              "      gap: 12px;\n",
              "    }\n",
              "\n",
              "    .colab-df-convert {\n",
              "      background-color: #E8F0FE;\n",
              "      border: none;\n",
              "      border-radius: 50%;\n",
              "      cursor: pointer;\n",
              "      display: none;\n",
              "      fill: #1967D2;\n",
              "      height: 32px;\n",
              "      padding: 0 0 0 0;\n",
              "      width: 32px;\n",
              "    }\n",
              "\n",
              "    .colab-df-convert:hover {\n",
              "      background-color: #E2EBFA;\n",
              "      box-shadow: 0px 1px 2px rgba(60, 64, 67, 0.3), 0px 1px 3px 1px rgba(60, 64, 67, 0.15);\n",
              "      fill: #174EA6;\n",
              "    }\n",
              "\n",
              "    [theme=dark] .colab-df-convert {\n",
              "      background-color: #3B4455;\n",
              "      fill: #D2E3FC;\n",
              "    }\n",
              "\n",
              "    [theme=dark] .colab-df-convert:hover {\n",
              "      background-color: #434B5C;\n",
              "      box-shadow: 0px 1px 3px 1px rgba(0, 0, 0, 0.15);\n",
              "      filter: drop-shadow(0px 1px 2px rgba(0, 0, 0, 0.3));\n",
              "      fill: #FFFFFF;\n",
              "    }\n",
              "  </style>\n",
              "\n",
              "      <script>\n",
              "        const buttonEl =\n",
              "          document.querySelector('#df-e697c9a8-5d3a-427d-892e-c1a390573cd6 button.colab-df-convert');\n",
              "        buttonEl.style.display =\n",
              "          google.colab.kernel.accessAllowed ? 'block' : 'none';\n",
              "\n",
              "        async function convertToInteractive(key) {\n",
              "          const element = document.querySelector('#df-e697c9a8-5d3a-427d-892e-c1a390573cd6');\n",
              "          const dataTable =\n",
              "            await google.colab.kernel.invokeFunction('convertToInteractive',\n",
              "                                                     [key], {});\n",
              "          if (!dataTable) return;\n",
              "\n",
              "          const docLinkHtml = 'Like what you see? Visit the ' +\n",
              "            '<a target=\"_blank\" href=https://colab.research.google.com/notebooks/data_table.ipynb>data table notebook</a>'\n",
              "            + ' to learn more about interactive tables.';\n",
              "          element.innerHTML = '';\n",
              "          dataTable['output_type'] = 'display_data';\n",
              "          await google.colab.output.renderOutput(dataTable, element);\n",
              "          const docLink = document.createElement('div');\n",
              "          docLink.innerHTML = docLinkHtml;\n",
              "          element.appendChild(docLink);\n",
              "        }\n",
              "      </script>\n",
              "    </div>\n",
              "  </div>\n",
              "  "
            ]
          },
          "metadata": {},
          "execution_count": 44
        }
      ]
    },
    {
      "cell_type": "code",
      "source": [
        "import matplotlib.pyplot as plt\n",
        "\n",
        "df.plot(kind='scatter', x='luas_panen', y='jumlah_produksi')\n",
        "\n",
        "plt.title('data Luas panen Rakyat')\n",
        "plt.xlabel('luas_panen')\n",
        "plt.ylabel('jumlah_produksi')\n",
        "plt.xlim(0, 125\t)\n",
        "plt.ylim(0, 1550 )\n",
        "plt.grid(True)\n",
        "plt.show()"
      ],
      "metadata": {
        "colab": {
          "base_uri": "https://localhost:8080/",
          "height": 296
        },
        "id": "0ae48XGEiLVb",
        "outputId": "365bed7a-a535-420d-a4f1-ab61f850c01f"
      },
      "execution_count": 45,
      "outputs": [
        {
          "output_type": "display_data",
          "data": {
            "text/plain": [
              "<Figure size 432x288 with 1 Axes>"
            ],
            "image/png": "[encoded data removed]"
          },
          "metadata": {
            "needs_background": "light"
          }
        }
      ]
    },
    {
      "cell_type": "code",
      "source": [
        "import numpy as np\n",
        "X = np.array(df['luas_panen']) \n",
        "y = np.array(df['jumlah_produksi']) \n",
        "print(f'X : {X}') \n",
        "print(f'y : {y}')"
      ],
      "metadata": {
        "colab": {
          "base_uri": "https://localhost:8080/"
        },
        "id": "Vexcaptim1W5",
        "outputId": "2b53b588-0a78-4c2c-8b58-26891fb0c881"
      },
      "execution_count": 46,
      "outputs": [
        {
          "output_type": "stream",
          "name": "stdout",
          "text": [
            "X : [  1   3   4   7   9   9  12  15  15  16  17  18  20  20  25  25  26  26\n",
            "  39  54  54  56  64  74  87  97 105]\n",
            "y : [   1    2    6    7    9   15   55  101  106  148  157  195  198  200\n",
            "  280  285  305  305  454  628  650  751  835 1026 1104 1203 1216]\n"
          ]
        }
      ]
    },
    {
      "cell_type": "code",
      "source": [
        "X = X.reshape(-1, 1) # Reshapng atau slice data\n",
        "X.shape"
      ],
      "metadata": {
        "colab": {
          "base_uri": "https://localhost:8080/"
        },
        "id": "yXy0Km35nwIY",
        "outputId": "5026b5e0-4156-4f79-800c-37e43600acdf"
      },
      "execution_count": 47,
      "outputs": [
        {
          "output_type": "execute_result",
          "data": {
            "text/plain": [
              "(27, 1)"
            ]
          },
          "metadata": {},
          "execution_count": 47
        }
      ]
    },
    {
      "cell_type": "code",
      "source": [
        "from sklearn.linear_model import LinearRegression\n",
        "model = LinearRegression() \n",
        "\n",
        "model.fit(X, y)"
      ],
      "metadata": {
        "colab": {
          "base_uri": "https://localhost:8080/"
        },
        "id": "6RFYFN-mn6aK",
        "outputId": "1b533cac-c71c-4779-cc77-023729b81567"
      },
      "execution_count": 48,
      "outputs": [
        {
          "output_type": "execute_result",
          "data": {
            "text/plain": [
              "LinearRegression()"
            ]
          },
          "metadata": {},
          "execution_count": 48
        }
      ]
    },
    {
      "cell_type": "code",
      "source": [
        "X_vis = np.array([0, 10000]).reshape(-1, 1)\n",
        "y_vis = model.predict(X_vis) "
      ],
      "metadata": {
        "id": "-21Arsc-n8fS"
      },
      "execution_count": 49,
      "outputs": []
    },
    {
      "cell_type": "code",
      "source": [
        "plt.scatter(X, y)\n",
        "plt.plot(X_vis, y_vis,'-r')\n",
        "\n",
        "plt.title('data Luas panen Rakyat')\n",
        "plt.xlabel('luas_panen')\n",
        "plt.ylabel('jumlah_produksi')\n",
        "plt.xlim(0, 120\t)\n",
        "plt.ylim(0, 1400 )\n",
        "plt.grid(True)\n",
        "plt.show()"
      ],
      "metadata": {
        "colab": {
          "base_uri": "https://localhost:8080/",
          "height": 296
        },
        "id": "_tW2jX00oAjq",
        "outputId": "8850e5b5-521a-4f56-c1ff-4f89b6d6e2d2"
      },
      "execution_count": 61,
      "outputs": [
        {
          "output_type": "display_data",
          "data": {
            "text/plain": [
              "<Figure size 432x288 with 1 Axes>"
            ],
            "image/png": "[encoded data removed]"
          },
          "metadata": {
            "needs_background": "light"
          }
        }
      ]
    },
    {
      "cell_type": "code",
      "source": [
        "print(f'intercept : {model.intercept_}')\n",
        "print(f'slope : {model.coef_}')"
      ],
      "metadata": {
        "colab": {
          "base_uri": "https://localhost:8080/"
        },
        "id": "ZGuUJcaxoPc7",
        "outputId": "ba6b66fe-293c-40c3-e6ea-975fcbe47e49"
      },
      "execution_count": null,
      "outputs": [
        {
          "output_type": "stream",
          "name": "stdout",
          "text": [
            "intercept : -99.70622085019681\n",
            "slope : [13.58248103]\n"
          ]
        }
      ]
    },
    {
      "cell_type": "code",
      "source": [
        "tahun = np.array([2025, 2000, 2001, 2032,2030]).reshape(-1, 1)\n",
        "tahun"
      ],
      "metadata": {
        "colab": {
          "base_uri": "https://localhost:8080/"
        },
        "id": "FMEHrWINopdQ",
        "outputId": "bd9b0dc7-c471-49b9-d8cb-4c401fa4528b"
      },
      "execution_count": null,
      "outputs": [
        {
          "output_type": "execute_result",
          "data": {
            "text/plain": [
              "array([[2025],\n",
              "       [2000],\n",
              "       [2001],\n",
              "       [2032],\n",
              "       [2030]])"
            ]
          },
          "metadata": {},
          "execution_count": 12
        }
      ]
    },
    {
      "cell_type": "code",
      "source": [
        "prediksi_tahun = model.predict(tahun)\n",
        "prediksi_tahun"
      ],
      "metadata": {
        "colab": {
          "base_uri": "https://localhost:8080/"
        },
        "id": "OICDu2uUorj5",
        "outputId": "ebbae881-36d9-44cb-8875-cddd25133353"
      },
      "execution_count": null,
      "outputs": [
        {
          "output_type": "execute_result",
          "data": {
            "text/plain": [
              "array([27404.81786042, 27065.25583473, 27078.83831576, 27499.89522762,\n",
              "       27472.73026556])"
            ]
          },
          "metadata": {},
          "execution_count": 13
        }
      ]
    },
    {
      "cell_type": "code",
      "source": [
        "for tahun, index in zip (tahun, prediksi_tahun) : \n",
        "  print(f'tahun : {tahun} prediksi tahun : {index}')"
      ],
      "metadata": {
        "colab": {
          "base_uri": "https://localhost:8080/"
        },
        "id": "A-b2KUMrowzC",
        "outputId": "e3add11e-d4d2-468b-a58c-09e17ad32ff5"
      },
      "execution_count": null,
      "outputs": [
        {
          "output_type": "stream",
          "name": "stdout",
          "text": [
            "tahun : [2025] prediksi tahun : 27404.81786042431\n",
            "tahun : [2000] prediksi tahun : 27065.255834729564\n",
            "tahun : [2001] prediksi tahun : 27078.838315757355\n",
            "tahun : [2032] prediksi tahun : 27499.89522761884\n",
            "tahun : [2030] prediksi tahun : 27472.730265563263\n"
          ]
        }
      ]
    },
    {
      "cell_type": "code",
      "source": [
        "df['luas_panen'].sum()"
      ],
      "metadata": {
        "colab": {
          "base_uri": "https://localhost:8080/"
        },
        "id": "C2FqL96l9U3W",
        "outputId": "45761353-095b-4018-de2b-0de1f18470b7"
      },
      "execution_count": 58,
      "outputs": [
        {
          "output_type": "execute_result",
          "data": {
            "text/plain": [
              "898"
            ]
          },
          "metadata": {},
          "execution_count": 58
        }
      ]
    },
    {
      "cell_type": "code",
      "source": [
        "df['jumlah_produksi'].sum()"
      ],
      "metadata": {
        "id": "eTo6JuI11eDj",
        "colab": {
          "base_uri": "https://localhost:8080/"
        },
        "outputId": "55d0679f-11e3-456f-d093-14027b0ad737"
      },
      "execution_count": 57,
      "outputs": [
        {
          "output_type": "execute_result",
          "data": {
            "text/plain": [
              "10242"
            ]
          },
          "metadata": {},
          "execution_count": 57
        }
      ]
    },
    {
      "cell_type": "code",
      "source": [
        "fig = plt.figure()\n",
        "ax = fig.add_axes([0, 0, 1, 1])\n",
        "indeks_x = ['luas_panen',' jumlah_produksi']\n",
        "indeks_y= [898, 10242 ]\n",
        "c = ['red','yellow','green','blue','pink','black']\n",
        "plt.title(\"Data Luas Panen Rakyat\")\n",
        "plt.xlabel(\"luas_panen(TON)\")\n",
        "plt.ylabel(\"jumlah_produksi\")\n",
        "plt.bar(indeks_x, indeks_y, color = c)\n",
        "plt.grid(True)\n",
        "plt.show()"
      ],
      "metadata": {
        "colab": {
          "base_uri": "https://localhost:8080/",
          "height": 368
        },
        "id": "m-LOwIeOpJx9",
        "outputId": "d8108663-0c04-4370-bd16-23b8a16870af"
      },
      "execution_count": 59,
      "outputs": [
        {
          "output_type": "display_data",
          "data": {
            "text/plain": [
              "<Figure size 432x288 with 1 Axes>"
            ],
            "image/png": "[encoded data removed]"
          },
          "metadata": {
            "needs_background": "light"
          }
        }
      ]
    },
    {
      "cell_type": "code",
      "source": [
        "fig = plt.figure()\n",
        "ax = fig.add_axes([0, 0, 1,1])\n",
        "ax.axis('equal')\n",
        "indeks_x = ['luas_panen',' jumlah_produksi']\n",
        "indeks_y= [898, 10242 ]\n",
        "\n",
        "ax.pie(indeks_y,labels=indeks_x,autopct='%1.2f%%',)\n",
        "plt.title(\"Data Luas Panen Rakyat\")\n",
        "plt.show()"
      ],
      "metadata": {
        "colab": {
          "base_uri": "https://localhost:8080/",
          "height": 335
        },
        "id": "7XAG45gD7yDW",
        "outputId": "7be3e2ac-42c6-4592-9454-651352cf8c05"
      },
      "execution_count": 60,
      "outputs": [
        {
          "output_type": "display_data",
          "data": {
            "text/plain": [
              "<Figure size 432x288 with 1 Axes>"
            ],
            "image/png": "[encoded data removed]"
          },
          "metadata": {}
        }
      ]
    }
  ]
}
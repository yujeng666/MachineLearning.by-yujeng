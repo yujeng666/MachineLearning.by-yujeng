{
  "nbformat": 4,
  "nbformat_minor": 0,
  "metadata": {
    "colab": {
      "provenance": []
    },
    "kernelspec": {
      "name": "python3",
      "display_name": "Python 3"
    },
    "language_info": {
      "name": "python"
    }
  },
  "cells": [
    {
      "cell_type": "code",
      "execution_count": 8,
      "metadata": {
        "colab": {
          "base_uri": "https://localhost:8080/"
        },
        "id": "-jBPBY71_nH4",
        "outputId": "3f05d010-1ca8-4f5d-d7a3-abc907a8e090"
      },
      "outputs": [
        {
          "output_type": "stream",
          "name": "stdout",
          "text": [
            "Mounted at /content/drive\n"
          ]
        }
      ],
      "source": [
        "from google.colab import drive\n",
        "drive.mount('/content/drive')"
      ]
    },
    {
      "cell_type": "code",
      "source": [
        "import pandas as pd\n",
        "\n",
        "path ='/content/drive/MyDrive/CSV/DATA-KESEHATAN - data-fasilitas-kesehatan.csv'\n",
        "df = pd.read_csv(path)\n",
        "df.describe()"
      ],
      "metadata": {
        "colab": {
          "base_uri": "https://localhost:8080/",
          "height": 300
        },
        "id": "loVN_Sb6_tzX",
        "outputId": "8d8f58bf-8ed0-45d3-9449-7db511376453"
      },
      "execution_count": 9,
      "outputs": [
        {
          "output_type": "execute_result",
          "data": {
            "text/plain": [
              "        tahun  bulan  jumlah_yang_ada  jumlah_yang_dilaporkan\n",
              "count    25.0   25.0        25.000000               25.000000\n",
              "mean   2018.0    1.0       101.120000              104.640000\n",
              "std       0.0    0.0       102.411881               94.708271\n",
              "min    2018.0    1.0         1.000000                1.000000\n",
              "25%    2018.0    1.0        28.000000               28.000000\n",
              "50%    2018.0    1.0        75.000000               81.000000\n",
              "75%    2018.0    1.0       113.000000              181.000000\n",
              "max    2018.0    1.0       370.000000              320.000000"
            ],
            "text/html": [
              "\n",
              "  <div id=\"df-86d91e3a-3548-4670-8d70-c054502bb76c\">\n",
              "    <div class=\"colab-df-container\">\n",
              "      <div>\n",
              "<style scoped>\n",
              "    .dataframe tbody tr th:only-of-type {\n",
              "        vertical-align: middle;\n",
              "    }\n",
              "\n",
              "    .dataframe tbody tr th {\n",
              "        vertical-align: top;\n",
              "    }\n",
              "\n",
              "    .dataframe thead th {\n",
              "        text-align: right;\n",
              "    }\n",
              "</style>\n",
              "<table border=\"1\" class=\"dataframe\">\n",
              "  <thead>\n",
              "    <tr style=\"text-align: right;\">\n",
              "      <th></th>\n",
              "      <th>tahun</th>\n",
              "      <th>bulan</th>\n",
              "      <th>jumlah_yang_ada</th>\n",
              "      <th>jumlah_yang_dilaporkan</th>\n",
              "    </tr>\n",
              "  </thead>\n",
              "  <tbody>\n",
              "    <tr>\n",
              "      <th>count</th>\n",
              "      <td>25.0</td>\n",
              "      <td>25.0</td>\n",
              "      <td>25.000000</td>\n",
              "      <td>25.000000</td>\n",
              "    </tr>\n",
              "    <tr>\n",
              "      <th>mean</th>\n",
              "      <td>2018.0</td>\n",
              "      <td>1.0</td>\n",
              "      <td>101.120000</td>\n",
              "      <td>104.640000</td>\n",
              "    </tr>\n",
              "    <tr>\n",
              "      <th>std</th>\n",
              "      <td>0.0</td>\n",
              "      <td>0.0</td>\n",
              "      <td>102.411881</td>\n",
              "      <td>94.708271</td>\n",
              "    </tr>\n",
              "    <tr>\n",
              "      <th>min</th>\n",
              "      <td>2018.0</td>\n",
              "      <td>1.0</td>\n",
              "      <td>1.000000</td>\n",
              "      <td>1.000000</td>\n",
              "    </tr>\n",
              "    <tr>\n",
              "      <th>25%</th>\n",
              "      <td>2018.0</td>\n",
              "      <td>1.0</td>\n",
              "      <td>28.000000</td>\n",
              "      <td>28.000000</td>\n",
              "    </tr>\n",
              "    <tr>\n",
              "      <th>50%</th>\n",
              "      <td>2018.0</td>\n",
              "      <td>1.0</td>\n",
              "      <td>75.000000</td>\n",
              "      <td>81.000000</td>\n",
              "    </tr>\n",
              "    <tr>\n",
              "      <th>75%</th>\n",
              "      <td>2018.0</td>\n",
              "      <td>1.0</td>\n",
              "      <td>113.000000</td>\n",
              "      <td>181.000000</td>\n",
              "    </tr>\n",
              "    <tr>\n",
              "      <th>max</th>\n",
              "      <td>2018.0</td>\n",
              "      <td>1.0</td>\n",
              "      <td>370.000000</td>\n",
              "      <td>320.000000</td>\n",
              "    </tr>\n",
              "  </tbody>\n",
              "</table>\n",
              "</div>\n",
              "      <button class=\"colab-df-convert\" onclick=\"convertToInteractive('df-86d91e3a-3548-4670-8d70-c054502bb76c')\"\n",
              "              title=\"Convert this dataframe to an interactive table.\"\n",
              "              style=\"display:none;\">\n",
              "        \n",
              "  <svg xmlns=\"http://www.w3.org/2000/svg\" height=\"24px\"viewBox=\"0 0 24 24\"\n",
              "       width=\"24px\">\n",
              "    <path d=\"M0 0h24v24H0V0z\" fill=\"none\"/>\n",
              "    <path d=\"M18.56 5.44l.94 2.06.94-2.06 2.06-.94-2.06-.94-.94-2.06-.94 2.06-2.06.94zm-11 1L8.5 8.5l.94-2.06 2.06-.94-2.06-.94L8.5 2.5l-.94 2.06-2.06.94zm10 10l.94 2.06.94-2.06 2.06-.94-2.06-.94-.94-2.06-.94 2.06-2.06.94z\"/><path d=\"M17.41 7.96l-1.37-1.37c-.4-.4-.92-.59-1.43-.59-.52 0-1.04.2-1.43.59L10.3 9.45l-7.72 7.72c-.78.78-.78 2.05 0 2.83L4 21.41c.39.39.9.59 1.41.59.51 0 1.02-.2 1.41-.59l7.78-7.78 2.81-2.81c.8-.78.8-2.07 0-2.86zM5.41 20L4 18.59l7.72-7.72 1.47 1.35L5.41 20z\"/>\n",
              "  </svg>\n",
              "      </button>\n",
              "      \n",
              "  <style>\n",
              "    .colab-df-container {\n",
              "      display:flex;\n",
              "      flex-wrap:wrap;\n",
              "      gap: 12px;\n",
              "    }\n",
              "\n",
              "    .colab-df-convert {\n",
              "      background-color: #E8F0FE;\n",
              "      border: none;\n",
              "      border-radius: 50%;\n",
              "      cursor: pointer;\n",
              "      display: none;\n",
              "      fill: #1967D2;\n",
              "      height: 32px;\n",
              "      padding: 0 0 0 0;\n",
              "      width: 32px;\n",
              "    }\n",
              "\n",
              "    .colab-df-convert:hover {\n",
              "      background-color: #E2EBFA;\n",
              "      box-shadow: 0px 1px 2px rgba(60, 64, 67, 0.3), 0px 1px 3px 1px rgba(60, 64, 67, 0.15);\n",
              "      fill: #174EA6;\n",
              "    }\n",
              "\n",
              "    [theme=dark] .colab-df-convert {\n",
              "      background-color: #3B4455;\n",
              "      fill: #D2E3FC;\n",
              "    }\n",
              "\n",
              "    [theme=dark] .colab-df-convert:hover {\n",
              "      background-color: #434B5C;\n",
              "      box-shadow: 0px 1px 3px 1px rgba(0, 0, 0, 0.15);\n",
              "      filter: drop-shadow(0px 1px 2px rgba(0, 0, 0, 0.3));\n",
              "      fill: #FFFFFF;\n",
              "    }\n",
              "  </style>\n",
              "\n",
              "      <script>\n",
              "        const buttonEl =\n",
              "          document.querySelector('#df-86d91e3a-3548-4670-8d70-c054502bb76c button.colab-df-convert');\n",
              "        buttonEl.style.display =\n",
              "          google.colab.kernel.accessAllowed ? 'block' : 'none';\n",
              "\n",
              "        async function convertToInteractive(key) {\n",
              "          const element = document.querySelector('#df-86d91e3a-3548-4670-8d70-c054502bb76c');\n",
              "          const dataTable =\n",
              "            await google.colab.kernel.invokeFunction('convertToInteractive',\n",
              "                                                     [key], {});\n",
              "          if (!dataTable) return;\n",
              "\n",
              "          const docLinkHtml = 'Like what you see? Visit the ' +\n",
              "            '<a target=\"_blank\" href=https://colab.research.google.com/notebooks/data_table.ipynb>data table notebook</a>'\n",
              "            + ' to learn more about interactive tables.';\n",
              "          element.innerHTML = '';\n",
              "          dataTable['output_type'] = 'display_data';\n",
              "          await google.colab.output.renderOutput(dataTable, element);\n",
              "          const docLink = document.createElement('div');\n",
              "          docLink.innerHTML = docLinkHtml;\n",
              "          element.appendChild(docLink);\n",
              "        }\n",
              "      </script>\n",
              "    </div>\n",
              "  </div>\n",
              "  "
            ]
          },
          "metadata": {},
          "execution_count": 9
        }
      ]
    },
    {
      "cell_type": "code",
      "source": [
        "df"
      ],
      "metadata": {
        "colab": {
          "base_uri": "https://localhost:8080/",
          "height": 833
        },
        "id": "4H7Y4pqR_78T",
        "outputId": "58441586-e440-489b-928a-22613730323a"
      },
      "execution_count": 10,
      "outputs": [
        {
          "output_type": "execute_result",
          "data": {
            "text/plain": [
              "    tahun  bulan           wilayah             jenis_fasilitas_kesehatan_kb  \\\n",
              "0    2018      1     Jakarta Barat  Jejaring Fasilitas Kesehatan KB Lainnya   \n",
              "1    2018      1   Jakarta Selatan  Jejaring Fasilitas Kesehatan KB Lainnya   \n",
              "2    2018      1  Kepulauan Seribu        Fasilitas Kesehatan KB Pemerintah   \n",
              "3    2018      1     Jakarta Utara            Fasilitas Kesehatan KB Swasta   \n",
              "4    2018      1     Jakarta Pusat            Fasilitas Kesehatan KB Swasta   \n",
              "5    2018      1     Jakarta Barat            Fasilitas Kesehatan KB Swasta   \n",
              "6    2018      1   Jakarta Selatan            Fasilitas Kesehatan KB Swasta   \n",
              "7    2018      1     Jakarta Timur            Fasilitas Kesehatan KB Swasta   \n",
              "8    2018      1     Jakarta Timur                           Praktek Dokter   \n",
              "9    2018      1     Jakarta Utara        Fasilitas Kesehatan KB Pemerintah   \n",
              "10   2018      1     Jakarta Pusat                           Praktek Dokter   \n",
              "11   2018      1     Jakarta Pusat        Fasilitas Kesehatan KB Pemerintah   \n",
              "12   2018      1     Jakarta Utara                           Praktek Dokter   \n",
              "13   2018      1   Jakarta Selatan                           Praktek Dokter   \n",
              "14   2018      1     Jakarta Barat        Fasilitas Kesehatan KB Pemerintah   \n",
              "15   2018      1     Jakarta Pusat                    Praktek Bidan Mandiri   \n",
              "16   2018      1   Jakarta Selatan        Fasilitas Kesehatan KB Pemerintah   \n",
              "17   2018      1     Jakarta Timur        Fasilitas Kesehatan KB Pemerintah   \n",
              "18   2018      1     Jakarta Barat                           Praktek Dokter   \n",
              "19   2018      1     Jakarta Utara                    Praktek Bidan Mandiri   \n",
              "20   2018      1   Jakarta Selatan                    Praktek Bidan Mandiri   \n",
              "21   2018      1     Jakarta Utara  Jejaring Fasilitas Kesehatan KB Lainnya   \n",
              "22   2018      1     Jakarta Barat                    Praktek Bidan Mandiri   \n",
              "23   2018      1     Jakarta Timur                    Praktek Bidan Mandiri   \n",
              "24   2018      1     Jakarta Timur  Jejaring Fasilitas Kesehatan KB Lainnya   \n",
              "\n",
              "    jumlah_yang_ada  jumlah_yang_dilaporkan  \n",
              "0                 1                       1  \n",
              "1                 3                       3  \n",
              "2                 7                       7  \n",
              "3                15                      15  \n",
              "4                15                      14  \n",
              "5                22                      17  \n",
              "6                28                      28  \n",
              "7                30                      30  \n",
              "8                35                      29  \n",
              "9                54                      54  \n",
              "10               64                     150  \n",
              "11               74                      74  \n",
              "12               75                      75  \n",
              "13               83                      83  \n",
              "14               82                      81  \n",
              "15               86                     183  \n",
              "16              104                     104  \n",
              "17              106                     107  \n",
              "18              113                     112  \n",
              "19              180                     212  \n",
              "20              181                     181  \n",
              "21              200                     200  \n",
              "22              239                     225  \n",
              "23              361                     311  \n",
              "24              370                     320  "
            ],
            "text/html": [
              "\n",
              "  <div id=\"df-d975a694-985b-4dc3-a5a2-8835c201154d\">\n",
              "    <div class=\"colab-df-container\">\n",
              "      <div>\n",
              "<style scoped>\n",
              "    .dataframe tbody tr th:only-of-type {\n",
              "        vertical-align: middle;\n",
              "    }\n",
              "\n",
              "    .dataframe tbody tr th {\n",
              "        vertical-align: top;\n",
              "    }\n",
              "\n",
              "    .dataframe thead th {\n",
              "        text-align: right;\n",
              "    }\n",
              "</style>\n",
              "<table border=\"1\" class=\"dataframe\">\n",
              "  <thead>\n",
              "    <tr style=\"text-align: right;\">\n",
              "      <th></th>\n",
              "      <th>tahun</th>\n",
              "      <th>bulan</th>\n",
              "      <th>wilayah</th>\n",
              "      <th>jenis_fasilitas_kesehatan_kb</th>\n",
              "      <th>jumlah_yang_ada</th>\n",
              "      <th>jumlah_yang_dilaporkan</th>\n",
              "    </tr>\n",
              "  </thead>\n",
              "  <tbody>\n",
              "    <tr>\n",
              "      <th>0</th>\n",
              "      <td>2018</td>\n",
              "      <td>1</td>\n",
              "      <td>Jakarta Barat</td>\n",
              "      <td>Jejaring Fasilitas Kesehatan KB Lainnya</td>\n",
              "      <td>1</td>\n",
              "      <td>1</td>\n",
              "    </tr>\n",
              "    <tr>\n",
              "      <th>1</th>\n",
              "      <td>2018</td>\n",
              "      <td>1</td>\n",
              "      <td>Jakarta Selatan</td>\n",
              "      <td>Jejaring Fasilitas Kesehatan KB Lainnya</td>\n",
              "      <td>3</td>\n",
              "      <td>3</td>\n",
              "    </tr>\n",
              "    <tr>\n",
              "      <th>2</th>\n",
              "      <td>2018</td>\n",
              "      <td>1</td>\n",
              "      <td>Kepulauan Seribu</td>\n",
              "      <td>Fasilitas Kesehatan KB Pemerintah</td>\n",
              "      <td>7</td>\n",
              "      <td>7</td>\n",
              "    </tr>\n",
              "    <tr>\n",
              "      <th>3</th>\n",
              "      <td>2018</td>\n",
              "      <td>1</td>\n",
              "      <td>Jakarta Utara</td>\n",
              "      <td>Fasilitas Kesehatan KB Swasta</td>\n",
              "      <td>15</td>\n",
              "      <td>15</td>\n",
              "    </tr>\n",
              "    <tr>\n",
              "      <th>4</th>\n",
              "      <td>2018</td>\n",
              "      <td>1</td>\n",
              "      <td>Jakarta Pusat</td>\n",
              "      <td>Fasilitas Kesehatan KB Swasta</td>\n",
              "      <td>15</td>\n",
              "      <td>14</td>\n",
              "    </tr>\n",
              "    <tr>\n",
              "      <th>5</th>\n",
              "      <td>2018</td>\n",
              "      <td>1</td>\n",
              "      <td>Jakarta Barat</td>\n",
              "      <td>Fasilitas Kesehatan KB Swasta</td>\n",
              "      <td>22</td>\n",
              "      <td>17</td>\n",
              "    </tr>\n",
              "    <tr>\n",
              "      <th>6</th>\n",
              "      <td>2018</td>\n",
              "      <td>1</td>\n",
              "      <td>Jakarta Selatan</td>\n",
              "      <td>Fasilitas Kesehatan KB Swasta</td>\n",
              "      <td>28</td>\n",
              "      <td>28</td>\n",
              "    </tr>\n",
              "    <tr>\n",
              "      <th>7</th>\n",
              "      <td>2018</td>\n",
              "      <td>1</td>\n",
              "      <td>Jakarta Timur</td>\n",
              "      <td>Fasilitas Kesehatan KB Swasta</td>\n",
              "      <td>30</td>\n",
              "      <td>30</td>\n",
              "    </tr>\n",
              "    <tr>\n",
              "      <th>8</th>\n",
              "      <td>2018</td>\n",
              "      <td>1</td>\n",
              "      <td>Jakarta Timur</td>\n",
              "      <td>Praktek Dokter</td>\n",
              "      <td>35</td>\n",
              "      <td>29</td>\n",
              "    </tr>\n",
              "    <tr>\n",
              "      <th>9</th>\n",
              "      <td>2018</td>\n",
              "      <td>1</td>\n",
              "      <td>Jakarta Utara</td>\n",
              "      <td>Fasilitas Kesehatan KB Pemerintah</td>\n",
              "      <td>54</td>\n",
              "      <td>54</td>\n",
              "    </tr>\n",
              "    <tr>\n",
              "      <th>10</th>\n",
              "      <td>2018</td>\n",
              "      <td>1</td>\n",
              "      <td>Jakarta Pusat</td>\n",
              "      <td>Praktek Dokter</td>\n",
              "      <td>64</td>\n",
              "      <td>150</td>\n",
              "    </tr>\n",
              "    <tr>\n",
              "      <th>11</th>\n",
              "      <td>2018</td>\n",
              "      <td>1</td>\n",
              "      <td>Jakarta Pusat</td>\n",
              "      <td>Fasilitas Kesehatan KB Pemerintah</td>\n",
              "      <td>74</td>\n",
              "      <td>74</td>\n",
              "    </tr>\n",
              "    <tr>\n",
              "      <th>12</th>\n",
              "      <td>2018</td>\n",
              "      <td>1</td>\n",
              "      <td>Jakarta Utara</td>\n",
              "      <td>Praktek Dokter</td>\n",
              "      <td>75</td>\n",
              "      <td>75</td>\n",
              "    </tr>\n",
              "    <tr>\n",
              "      <th>13</th>\n",
              "      <td>2018</td>\n",
              "      <td>1</td>\n",
              "      <td>Jakarta Selatan</td>\n",
              "      <td>Praktek Dokter</td>\n",
              "      <td>83</td>\n",
              "      <td>83</td>\n",
              "    </tr>\n",
              "    <tr>\n",
              "      <th>14</th>\n",
              "      <td>2018</td>\n",
              "      <td>1</td>\n",
              "      <td>Jakarta Barat</td>\n",
              "      <td>Fasilitas Kesehatan KB Pemerintah</td>\n",
              "      <td>82</td>\n",
              "      <td>81</td>\n",
              "    </tr>\n",
              "    <tr>\n",
              "      <th>15</th>\n",
              "      <td>2018</td>\n",
              "      <td>1</td>\n",
              "      <td>Jakarta Pusat</td>\n",
              "      <td>Praktek Bidan Mandiri</td>\n",
              "      <td>86</td>\n",
              "      <td>183</td>\n",
              "    </tr>\n",
              "    <tr>\n",
              "      <th>16</th>\n",
              "      <td>2018</td>\n",
              "      <td>1</td>\n",
              "      <td>Jakarta Selatan</td>\n",
              "      <td>Fasilitas Kesehatan KB Pemerintah</td>\n",
              "      <td>104</td>\n",
              "      <td>104</td>\n",
              "    </tr>\n",
              "    <tr>\n",
              "      <th>17</th>\n",
              "      <td>2018</td>\n",
              "      <td>1</td>\n",
              "      <td>Jakarta Timur</td>\n",
              "      <td>Fasilitas Kesehatan KB Pemerintah</td>\n",
              "      <td>106</td>\n",
              "      <td>107</td>\n",
              "    </tr>\n",
              "    <tr>\n",
              "      <th>18</th>\n",
              "      <td>2018</td>\n",
              "      <td>1</td>\n",
              "      <td>Jakarta Barat</td>\n",
              "      <td>Praktek Dokter</td>\n",
              "      <td>113</td>\n",
              "      <td>112</td>\n",
              "    </tr>\n",
              "    <tr>\n",
              "      <th>19</th>\n",
              "      <td>2018</td>\n",
              "      <td>1</td>\n",
              "      <td>Jakarta Utara</td>\n",
              "      <td>Praktek Bidan Mandiri</td>\n",
              "      <td>180</td>\n",
              "      <td>212</td>\n",
              "    </tr>\n",
              "    <tr>\n",
              "      <th>20</th>\n",
              "      <td>2018</td>\n",
              "      <td>1</td>\n",
              "      <td>Jakarta Selatan</td>\n",
              "      <td>Praktek Bidan Mandiri</td>\n",
              "      <td>181</td>\n",
              "      <td>181</td>\n",
              "    </tr>\n",
              "    <tr>\n",
              "      <th>21</th>\n",
              "      <td>2018</td>\n",
              "      <td>1</td>\n",
              "      <td>Jakarta Utara</td>\n",
              "      <td>Jejaring Fasilitas Kesehatan KB Lainnya</td>\n",
              "      <td>200</td>\n",
              "      <td>200</td>\n",
              "    </tr>\n",
              "    <tr>\n",
              "      <th>22</th>\n",
              "      <td>2018</td>\n",
              "      <td>1</td>\n",
              "      <td>Jakarta Barat</td>\n",
              "      <td>Praktek Bidan Mandiri</td>\n",
              "      <td>239</td>\n",
              "      <td>225</td>\n",
              "    </tr>\n",
              "    <tr>\n",
              "      <th>23</th>\n",
              "      <td>2018</td>\n",
              "      <td>1</td>\n",
              "      <td>Jakarta Timur</td>\n",
              "      <td>Praktek Bidan Mandiri</td>\n",
              "      <td>361</td>\n",
              "      <td>311</td>\n",
              "    </tr>\n",
              "    <tr>\n",
              "      <th>24</th>\n",
              "      <td>2018</td>\n",
              "      <td>1</td>\n",
              "      <td>Jakarta Timur</td>\n",
              "      <td>Jejaring Fasilitas Kesehatan KB Lainnya</td>\n",
              "      <td>370</td>\n",
              "      <td>320</td>\n",
              "    </tr>\n",
              "  </tbody>\n",
              "</table>\n",
              "</div>\n",
              "      <button class=\"colab-df-convert\" onclick=\"convertToInteractive('df-d975a694-985b-4dc3-a5a2-8835c201154d')\"\n",
              "              title=\"Convert this dataframe to an interactive table.\"\n",
              "              style=\"display:none;\">\n",
              "        \n",
              "  <svg xmlns=\"http://www.w3.org/2000/svg\" height=\"24px\"viewBox=\"0 0 24 24\"\n",
              "       width=\"24px\">\n",
              "    <path d=\"M0 0h24v24H0V0z\" fill=\"none\"/>\n",
              "    <path d=\"M18.56 5.44l.94 2.06.94-2.06 2.06-.94-2.06-.94-.94-2.06-.94 2.06-2.06.94zm-11 1L8.5 8.5l.94-2.06 2.06-.94-2.06-.94L8.5 2.5l-.94 2.06-2.06.94zm10 10l.94 2.06.94-2.06 2.06-.94-2.06-.94-.94-2.06-.94 2.06-2.06.94z\"/><path d=\"M17.41 7.96l-1.37-1.37c-.4-.4-.92-.59-1.43-.59-.52 0-1.04.2-1.43.59L10.3 9.45l-7.72 7.72c-.78.78-.78 2.05 0 2.83L4 21.41c.39.39.9.59 1.41.59.51 0 1.02-.2 1.41-.59l7.78-7.78 2.81-2.81c.8-.78.8-2.07 0-2.86zM5.41 20L4 18.59l7.72-7.72 1.47 1.35L5.41 20z\"/>\n",
              "  </svg>\n",
              "      </button>\n",
              "      \n",
              "  <style>\n",
              "    .colab-df-container {\n",
              "      display:flex;\n",
              "      flex-wrap:wrap;\n",
              "      gap: 12px;\n",
              "    }\n",
              "\n",
              "    .colab-df-convert {\n",
              "      background-color: #E8F0FE;\n",
              "      border: none;\n",
              "      border-radius: 50%;\n",
              "      cursor: pointer;\n",
              "      display: none;\n",
              "      fill: #1967D2;\n",
              "      height: 32px;\n",
              "      padding: 0 0 0 0;\n",
              "      width: 32px;\n",
              "    }\n",
              "\n",
              "    .colab-df-convert:hover {\n",
              "      background-color: #E2EBFA;\n",
              "      box-shadow: 0px 1px 2px rgba(60, 64, 67, 0.3), 0px 1px 3px 1px rgba(60, 64, 67, 0.15);\n",
              "      fill: #174EA6;\n",
              "    }\n",
              "\n",
              "    [theme=dark] .colab-df-convert {\n",
              "      background-color: #3B4455;\n",
              "      fill: #D2E3FC;\n",
              "    }\n",
              "\n",
              "    [theme=dark] .colab-df-convert:hover {\n",
              "      background-color: #434B5C;\n",
              "      box-shadow: 0px 1px 3px 1px rgba(0, 0, 0, 0.15);\n",
              "      filter: drop-shadow(0px 1px 2px rgba(0, 0, 0, 0.3));\n",
              "      fill: #FFFFFF;\n",
              "    }\n",
              "  </style>\n",
              "\n",
              "      <script>\n",
              "        const buttonEl =\n",
              "          document.querySelector('#df-d975a694-985b-4dc3-a5a2-8835c201154d button.colab-df-convert');\n",
              "        buttonEl.style.display =\n",
              "          google.colab.kernel.accessAllowed ? 'block' : 'none';\n",
              "\n",
              "        async function convertToInteractive(key) {\n",
              "          const element = document.querySelector('#df-d975a694-985b-4dc3-a5a2-8835c201154d');\n",
              "          const dataTable =\n",
              "            await google.colab.kernel.invokeFunction('convertToInteractive',\n",
              "                                                     [key], {});\n",
              "          if (!dataTable) return;\n",
              "\n",
              "          const docLinkHtml = 'Like what you see? Visit the ' +\n",
              "            '<a target=\"_blank\" href=https://colab.research.google.com/notebooks/data_table.ipynb>data table notebook</a>'\n",
              "            + ' to learn more about interactive tables.';\n",
              "          element.innerHTML = '';\n",
              "          dataTable['output_type'] = 'display_data';\n",
              "          await google.colab.output.renderOutput(dataTable, element);\n",
              "          const docLink = document.createElement('div');\n",
              "          docLink.innerHTML = docLinkHtml;\n",
              "          element.appendChild(docLink);\n",
              "        }\n",
              "      </script>\n",
              "    </div>\n",
              "  </div>\n",
              "  "
            ]
          },
          "metadata": {},
          "execution_count": 10
        }
      ]
    },
    {
      "cell_type": "code",
      "source": [
        "import matplotlib.pyplot as plt\n",
        "\n",
        "df.plot(kind='scatter', x='jumlah_yang_ada', y='jumlah_yang_dilaporkan')\n",
        "\n",
        "plt.title('data kesehatan')\n",
        "plt.xlabel('jumlah_yang_ada')\n",
        "plt.ylabel('jumlah_yang_dilaporkan')\n",
        "plt.xlim(0, 400\t)\n",
        "plt.ylim(0, 350 )\n",
        "plt.grid(True)\n",
        "plt.show()"
      ],
      "metadata": {
        "colab": {
          "base_uri": "https://localhost:8080/",
          "height": 296
        },
        "id": "LUL8FSp4_9Cp",
        "outputId": "4e1512a8-c5eb-4099-9502-2d417471c55f"
      },
      "execution_count": 11,
      "outputs": [
        {
          "output_type": "display_data",
          "data": {
            "text/plain": [
              "<Figure size 432x288 with 1 Axes>"
            ],
            "image/png": "[encoded data removed]"
          },
          "metadata": {
            "needs_background": "light"
          }
        }
      ]
    },
    {
      "cell_type": "code",
      "source": [
        "import numpy as np\n",
        "X = np.array(df['jumlah_yang_ada']) \n",
        "y = np.array(df['jumlah_yang_dilaporkan']) \n",
        "print(f'X : {X}') \n",
        "print(f'y : {y}')"
      ],
      "metadata": {
        "colab": {
          "base_uri": "https://localhost:8080/"
        },
        "id": "0QZpa4sR_-xR",
        "outputId": "99618184-3c0a-4c8d-9e68-54a51c23d56a"
      },
      "execution_count": 12,
      "outputs": [
        {
          "output_type": "stream",
          "name": "stdout",
          "text": [
            "X : [  1   3   7  15  15  22  28  30  35  54  64  74  75  83  82  86 104 106\n",
            " 113 180 181 200 239 361 370]\n",
            "y : [  1   3   7  15  14  17  28  30  29  54 150  74  75  83  81 183 104 107\n",
            " 112 212 181 200 225 311 320]\n"
          ]
        }
      ]
    },
    {
      "cell_type": "code",
      "source": [
        "X = X.reshape(-1, 1)\n",
        "X.shape"
      ],
      "metadata": {
        "colab": {
          "base_uri": "https://localhost:8080/"
        },
        "id": "mVTmlQx3Ak2v",
        "outputId": "553054b0-f1d9-4fda-8d35-8c7ffb25c0e6"
      },
      "execution_count": 13,
      "outputs": [
        {
          "output_type": "execute_result",
          "data": {
            "text/plain": [
              "(25, 1)"
            ]
          },
          "metadata": {},
          "execution_count": 13
        }
      ]
    },
    {
      "cell_type": "code",
      "source": [
        "from sklearn.linear_model import LinearRegression\n",
        "model = LinearRegression() \n",
        "\n",
        "model.fit(X, y)"
      ],
      "metadata": {
        "colab": {
          "base_uri": "https://localhost:8080/"
        },
        "id": "6MarYk6rAo73",
        "outputId": "29940e35-9552-4201-cd3f-0fd3bfa4f253"
      },
      "execution_count": 14,
      "outputs": [
        {
          "output_type": "execute_result",
          "data": {
            "text/plain": [
              "LinearRegression()"
            ]
          },
          "metadata": {},
          "execution_count": 14
        }
      ]
    },
    {
      "cell_type": "code",
      "source": [
        "X_vis = np.array([0, 10000]).reshape(-1, 1)\n",
        "y_vis = model.predict(X_vis) "
      ],
      "metadata": {
        "id": "dqvd_iJHArMv"
      },
      "execution_count": 15,
      "outputs": []
    },
    {
      "cell_type": "code",
      "source": [
        "plt.scatter(X, y)\n",
        "plt.plot(X_vis, y_vis,'-r')\n",
        "\n",
        "plt.title('data kesehatan')\n",
        "plt.xlabel('jumlah_yang_ada')\n",
        "plt.ylabel('jumlah_yang_dilaporkan')\n",
        "plt.xlim(0, 400\t)\n",
        "plt.ylim(0, 350 )\n",
        "plt.grid(True)\n",
        "plt.show()"
      ],
      "metadata": {
        "colab": {
          "base_uri": "https://localhost:8080/",
          "height": 296
        },
        "id": "U1HAykSdAtMX",
        "outputId": "5ac423d9-3b96-4228-8e4a-4c23ecd66c34"
      },
      "execution_count": 16,
      "outputs": [
        {
          "output_type": "display_data",
          "data": {
            "text/plain": [
              "<Figure size 432x288 with 1 Axes>"
            ],
            "image/png": "[encoded data removed]"
          },
          "metadata": {
            "needs_background": "light"
          }
        }
      ]
    },
    {
      "cell_type": "code",
      "source": [
        "print(f'intercept : {model.intercept_}')\n",
        "print(f'slope : {model.coef_}')"
      ],
      "metadata": {
        "colab": {
          "base_uri": "https://localhost:8080/"
        },
        "id": "-vohwkirBuTH",
        "outputId": "9e329d00-84b6-46e4-d15d-ec72f057ad7b"
      },
      "execution_count": 17,
      "outputs": [
        {
          "output_type": "stream",
          "name": "stdout",
          "text": [
            "intercept : 15.416003646004526\n",
            "slope : [0.88235756]\n"
          ]
        }
      ]
    },
    {
      "cell_type": "code",
      "source": [
        "yang_ada = np.array([25, 202, 221, 132,30]).reshape(-1, 1)\n",
        "yang_ada"
      ],
      "metadata": {
        "colab": {
          "base_uri": "https://localhost:8080/"
        },
        "id": "k4olLeufBu3Z",
        "outputId": "71409aec-bf6c-4602-fd5f-b5382b6fd5d6"
      },
      "execution_count": 18,
      "outputs": [
        {
          "output_type": "execute_result",
          "data": {
            "text/plain": [
              "array([[ 25],\n",
              "       [202],\n",
              "       [221],\n",
              "       [132],\n",
              "       [ 30]])"
            ]
          },
          "metadata": {},
          "execution_count": 18
        }
      ]
    },
    {
      "cell_type": "code",
      "source": [
        "prediksi_ada = model.predict(yang_ada)\n",
        "prediksi_ada"
      ],
      "metadata": {
        "colab": {
          "base_uri": "https://localhost:8080/"
        },
        "id": "fXAiVe43B7_k",
        "outputId": "fd33135c-259b-4c4d-c916-6fd736c5dc70"
      },
      "execution_count": 19,
      "outputs": [
        {
          "output_type": "execute_result",
          "data": {
            "text/plain": [
              "array([ 37.47494262, 193.65223054, 210.41702416, 131.88720142,\n",
              "        41.88673041])"
            ]
          },
          "metadata": {},
          "execution_count": 19
        }
      ]
    },
    {
      "cell_type": "code",
      "source": [
        "for yang_ada, index in zip (yang_ada, prediksi_ada) : \n",
        "  print(f'yang ada : {yang_ada} prediksi ada : {index}')"
      ],
      "metadata": {
        "colab": {
          "base_uri": "https://localhost:8080/"
        },
        "id": "QlYdMIV0CDT8",
        "outputId": "1a8eeaf2-c781-47b3-bd81-114216649182"
      },
      "execution_count": 20,
      "outputs": [
        {
          "output_type": "stream",
          "name": "stdout",
          "text": [
            "yang ada : [25] prediksi ada : 37.474942618016854\n",
            "yang ada : [202] prediksi ada : 193.65223053986415\n",
            "yang ada : [221] prediksi ada : 210.4170241585935\n",
            "yang ada : [132] prediksi ada : 131.8872014182296\n",
            "yang ada : [30] prediksi ada : 41.886730412419325\n"
          ]
        }
      ]
    },
    {
      "cell_type": "code",
      "source": [
        "df['jumlah_yang_ada'].sum()\n",
        "\n"
      ],
      "metadata": {
        "id": "DOL551p_1cTa",
        "colab": {
          "base_uri": "https://localhost:8080/"
        },
        "outputId": "5e0c2418-9503-4a65-da3f-10f6615fd05c"
      },
      "execution_count": 28,
      "outputs": [
        {
          "output_type": "execute_result",
          "data": {
            "text/plain": [
              "2528"
            ]
          },
          "metadata": {},
          "execution_count": 28
        }
      ]
    },
    {
      "cell_type": "code",
      "source": [
        "df['jumlah_yang_dilaporkan'].sum()"
      ],
      "metadata": {
        "colab": {
          "base_uri": "https://localhost:8080/"
        },
        "id": "-mHOXWXs7pEJ",
        "outputId": "938377a1-742f-4e8e-9cf9-484431c57c0e"
      },
      "execution_count": 29,
      "outputs": [
        {
          "output_type": "execute_result",
          "data": {
            "text/plain": [
              "2616"
            ]
          },
          "metadata": {},
          "execution_count": 29
        }
      ]
    },
    {
      "cell_type": "code",
      "source": [
        "fig = plt.figure()\n",
        "ax = fig.add_axes([0, 0, 1, 1])\n",
        "indeks_x = ['jumlah_yang_ada',' jumlah_yang_dilaporkan']\n",
        "indeks_y= [2528, 2616 ]\n",
        "c = ['red','yellow','green','blue','pink','black']\n",
        "plt.title(\"Data Pembuatan Akta kelahiran\")\n",
        "plt.xlabel(\"jenis_fasilitas_kesehatan_kb\")\n",
        "plt.ylabel(\"jumlah_yang_ada\")\n",
        "plt.bar(indeks_x, indeks_y, color = c)\n",
        "plt.grid(True)\n",
        "plt.show()"
      ],
      "metadata": {
        "colab": {
          "base_uri": "https://localhost:8080/",
          "height": 368
        },
        "id": "u132EmJ9CSVW",
        "outputId": "73a96be8-fd98-47b1-d4c5-7ca7a717bbfb"
      },
      "execution_count": 30,
      "outputs": [
        {
          "output_type": "display_data",
          "data": {
            "text/plain": [
              "<Figure size 432x288 with 1 Axes>"
            ],
            "image/png": "[encoded data removed]"
          },
          "metadata": {
            "needs_background": "light"
          }
        }
      ]
    },
    {
      "cell_type": "code",
      "source": [
        "fig = plt.figure()\n",
        "ax = fig.add_axes([0, 0, 1,1])\n",
        "ax.axis('equal')\n",
        "indeks_x = ['jumlah_yang_ada',' jumlah_yang_dilaporkan']\n",
        "indeks_y= [2528, 2616 ]\n",
        "\n",
        "ax.pie(indeks_y,labels=indeks_x,autopct='%1.2f%%',)\n",
        "plt.title(\"Data Kesehatan\")\n",
        "plt.show()"
      ],
      "metadata": {
        "colab": {
          "base_uri": "https://localhost:8080/",
          "height": 335
        },
        "id": "SHjybLMODNgp",
        "outputId": "2158c5ee-3a6d-47a0-f901-409f6d1c526e"
      },
      "execution_count": 31,
      "outputs": [
        {
          "output_type": "display_data",
          "data": {
            "text/plain": [
              "<Figure size 432x288 with 1 Axes>"
            ],
            "image/png": "[encoded data removed]"
          },
          "metadata": {}
        }
      ]
    }
  ]
}
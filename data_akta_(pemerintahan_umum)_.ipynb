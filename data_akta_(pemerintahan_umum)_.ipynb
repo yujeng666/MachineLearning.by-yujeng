{
  "nbformat": 4,
  "nbformat_minor": 0,
  "metadata": {
    "colab": {
      "provenance": []
    },
    "kernelspec": {
      "name": "python3",
      "display_name": "Python 3"
    },
    "language_info": {
      "name": "python"
    }
  },
  "cells": [
    {
      "cell_type": "code",
      "execution_count": 2,
      "metadata": {
        "colab": {
          "base_uri": "https://localhost:8080/"
        },
        "id": "VbBJHei5FV8N",
        "outputId": "16c3f9b1-0261-4918-8dbf-0ce146102112"
      },
      "outputs": [
        {
          "output_type": "stream",
          "name": "stdout",
          "text": [
            "Drive already mounted at /content/drive; to attempt to forcibly remount, call drive.mount(\"/content/drive\", force_remount=True).\n"
          ]
        }
      ],
      "source": [
        "from google.colab import drive\n",
        "drive.mount('/content/drive')"
      ]
    },
    {
      "cell_type": "code",
      "source": [
        "import pandas as pd\n",
        "\n",
        "path ='/content/drive/MyDrive/CSV/data-jumlah-akta-kelahiran - data-jumlah-penerbitan-akta-kelahiran.csv'\n",
        "df = pd.read_csv(path)\n",
        "df.describe()"
      ],
      "metadata": {
        "colab": {
          "base_uri": "https://localhost:8080/",
          "height": 300
        },
        "id": "t7_KKnZnimcs",
        "outputId": "5503c2b8-8d51-4d46-fec7-dca7d2580a70"
      },
      "execution_count": 3,
      "outputs": [
        {
          "output_type": "execute_result",
          "data": {
            "text/plain": [
              "        tahun      bulan      jumlah\n",
              "count    28.0  28.000000   28.000000\n",
              "mean   2021.0   5.607143   77.642857\n",
              "std       0.0   3.403041   25.172316\n",
              "min    2021.0   1.000000   38.000000\n",
              "25%    2021.0   2.750000   61.750000\n",
              "50%    2021.0   5.500000   75.500000\n",
              "75%    2021.0   8.000000   88.500000\n",
              "max    2021.0  12.000000  128.000000"
            ],
            "text/html": [
              "\n",
              "  <div id=\"df-01364749-f5b8-44e4-91cf-7344c671af44\">\n",
              "    <div class=\"colab-df-container\">\n",
              "      <div>\n",
              "<style scoped>\n",
              "    .dataframe tbody tr th:only-of-type {\n",
              "        vertical-align: middle;\n",
              "    }\n",
              "\n",
              "    .dataframe tbody tr th {\n",
              "        vertical-align: top;\n",
              "    }\n",
              "\n",
              "    .dataframe thead th {\n",
              "        text-align: right;\n",
              "    }\n",
              "</style>\n",
              "<table border=\"1\" class=\"dataframe\">\n",
              "  <thead>\n",
              "    <tr style=\"text-align: right;\">\n",
              "      <th></th>\n",
              "      <th>tahun</th>\n",
              "      <th>bulan</th>\n",
              "      <th>jumlah</th>\n",
              "    </tr>\n",
              "  </thead>\n",
              "  <tbody>\n",
              "    <tr>\n",
              "      <th>count</th>\n",
              "      <td>28.0</td>\n",
              "      <td>28.000000</td>\n",
              "      <td>28.000000</td>\n",
              "    </tr>\n",
              "    <tr>\n",
              "      <th>mean</th>\n",
              "      <td>2021.0</td>\n",
              "      <td>5.607143</td>\n",
              "      <td>77.642857</td>\n",
              "    </tr>\n",
              "    <tr>\n",
              "      <th>std</th>\n",
              "      <td>0.0</td>\n",
              "      <td>3.403041</td>\n",
              "      <td>25.172316</td>\n",
              "    </tr>\n",
              "    <tr>\n",
              "      <th>min</th>\n",
              "      <td>2021.0</td>\n",
              "      <td>1.000000</td>\n",
              "      <td>38.000000</td>\n",
              "    </tr>\n",
              "    <tr>\n",
              "      <th>25%</th>\n",
              "      <td>2021.0</td>\n",
              "      <td>2.750000</td>\n",
              "      <td>61.750000</td>\n",
              "    </tr>\n",
              "    <tr>\n",
              "      <th>50%</th>\n",
              "      <td>2021.0</td>\n",
              "      <td>5.500000</td>\n",
              "      <td>75.500000</td>\n",
              "    </tr>\n",
              "    <tr>\n",
              "      <th>75%</th>\n",
              "      <td>2021.0</td>\n",
              "      <td>8.000000</td>\n",
              "      <td>88.500000</td>\n",
              "    </tr>\n",
              "    <tr>\n",
              "      <th>max</th>\n",
              "      <td>2021.0</td>\n",
              "      <td>12.000000</td>\n",
              "      <td>128.000000</td>\n",
              "    </tr>\n",
              "  </tbody>\n",
              "</table>\n",
              "</div>\n",
              "      <button class=\"colab-df-convert\" onclick=\"convertToInteractive('df-01364749-f5b8-44e4-91cf-7344c671af44')\"\n",
              "              title=\"Convert this dataframe to an interactive table.\"\n",
              "              style=\"display:none;\">\n",
              "        \n",
              "  <svg xmlns=\"http://www.w3.org/2000/svg\" height=\"24px\"viewBox=\"0 0 24 24\"\n",
              "       width=\"24px\">\n",
              "    <path d=\"M0 0h24v24H0V0z\" fill=\"none\"/>\n",
              "    <path d=\"M18.56 5.44l.94 2.06.94-2.06 2.06-.94-2.06-.94-.94-2.06-.94 2.06-2.06.94zm-11 1L8.5 8.5l.94-2.06 2.06-.94-2.06-.94L8.5 2.5l-.94 2.06-2.06.94zm10 10l.94 2.06.94-2.06 2.06-.94-2.06-.94-.94-2.06-.94 2.06-2.06.94z\"/><path d=\"M17.41 7.96l-1.37-1.37c-.4-.4-.92-.59-1.43-.59-.52 0-1.04.2-1.43.59L10.3 9.45l-7.72 7.72c-.78.78-.78 2.05 0 2.83L4 21.41c.39.39.9.59 1.41.59.51 0 1.02-.2 1.41-.59l7.78-7.78 2.81-2.81c.8-.78.8-2.07 0-2.86zM5.41 20L4 18.59l7.72-7.72 1.47 1.35L5.41 20z\"/>\n",
              "  </svg>\n",
              "      </button>\n",
              "      \n",
              "  <style>\n",
              "    .colab-df-container {\n",
              "      display:flex;\n",
              "      flex-wrap:wrap;\n",
              "      gap: 12px;\n",
              "    }\n",
              "\n",
              "    .colab-df-convert {\n",
              "      background-color: #E8F0FE;\n",
              "      border: none;\n",
              "      border-radius: 50%;\n",
              "      cursor: pointer;\n",
              "      display: none;\n",
              "      fill: #1967D2;\n",
              "      height: 32px;\n",
              "      padding: 0 0 0 0;\n",
              "      width: 32px;\n",
              "    }\n",
              "\n",
              "    .colab-df-convert:hover {\n",
              "      background-color: #E2EBFA;\n",
              "      box-shadow: 0px 1px 2px rgba(60, 64, 67, 0.3), 0px 1px 3px 1px rgba(60, 64, 67, 0.15);\n",
              "      fill: #174EA6;\n",
              "    }\n",
              "\n",
              "    [theme=dark] .colab-df-convert {\n",
              "      background-color: #3B4455;\n",
              "      fill: #D2E3FC;\n",
              "    }\n",
              "\n",
              "    [theme=dark] .colab-df-convert:hover {\n",
              "      background-color: #434B5C;\n",
              "      box-shadow: 0px 1px 3px 1px rgba(0, 0, 0, 0.15);\n",
              "      filter: drop-shadow(0px 1px 2px rgba(0, 0, 0, 0.3));\n",
              "      fill: #FFFFFF;\n",
              "    }\n",
              "  </style>\n",
              "\n",
              "      <script>\n",
              "        const buttonEl =\n",
              "          document.querySelector('#df-01364749-f5b8-44e4-91cf-7344c671af44 button.colab-df-convert');\n",
              "        buttonEl.style.display =\n",
              "          google.colab.kernel.accessAllowed ? 'block' : 'none';\n",
              "\n",
              "        async function convertToInteractive(key) {\n",
              "          const element = document.querySelector('#df-01364749-f5b8-44e4-91cf-7344c671af44');\n",
              "          const dataTable =\n",
              "            await google.colab.kernel.invokeFunction('convertToInteractive',\n",
              "                                                     [key], {});\n",
              "          if (!dataTable) return;\n",
              "\n",
              "          const docLinkHtml = 'Like what you see? Visit the ' +\n",
              "            '<a target=\"_blank\" href=https://colab.research.google.com/notebooks/data_table.ipynb>data table notebook</a>'\n",
              "            + ' to learn more about interactive tables.';\n",
              "          element.innerHTML = '';\n",
              "          dataTable['output_type'] = 'display_data';\n",
              "          await google.colab.output.renderOutput(dataTable, element);\n",
              "          const docLink = document.createElement('div');\n",
              "          docLink.innerHTML = docLinkHtml;\n",
              "          element.appendChild(docLink);\n",
              "        }\n",
              "      </script>\n",
              "    </div>\n",
              "  </div>\n",
              "  "
            ]
          },
          "metadata": {},
          "execution_count": 3
        }
      ]
    },
    {
      "cell_type": "code",
      "source": [
        "df"
      ],
      "metadata": {
        "colab": {
          "base_uri": "https://localhost:8080/",
          "height": 927
        },
        "id": "gmv2LAIOioDx",
        "outputId": "dcbbaeb6-2561-4ab9-e620-31b537801d50"
      },
      "execution_count": 4,
      "outputs": [
        {
          "output_type": "execute_result",
          "data": {
            "text/plain": [
              "    tahun  bulan           nama_kota   nama_kecamatan       nama_kelurahan  \\\n",
              "0    2021      1       JAKARTA PUSAT            SENEN               BUNGUR   \n",
              "1    2021      1       JAKARTA PUSAT           GAMBIR            DURI PULO   \n",
              "2    2021      1  KAB.ADM.KEP.SERIBU  KEP. SERIBU UTR          P. PANGGANG   \n",
              "3    2021      2       JAKARTA PUSAT      SAWAH BESAR           PASAR BARU   \n",
              "4    2021      2  KAB.ADM.KEP.SERIBU  KEP. SERIBU UTR            P. KELAPA   \n",
              "5    2021      2       JAKARTA PUSAT      SAWAH BESAR         KARANG ANYAR   \n",
              "6    2021      2       JAKARTA PUSAT        KEMAYORAN         UTAN PANJANG   \n",
              "7    2021      3  KAB.ADM.KEP.SERIBU  KEP. SERIBU UTR           P. HARAPAN   \n",
              "8    2021      3       JAKARTA PUSAT            SENEN                SENEN   \n",
              "9    2021      3       JAKARTA PUSAT      SAWAH BESAR  GUNUNG SAHARI UTARA   \n",
              "10   2021      4  KAB.ADM.KEP.SERIBU  KEP. SERIBU SLT       P. UNTUNG JAWA   \n",
              "11   2021      4       JAKARTA PUSAT      SAWAH BESAR              KARTINI   \n",
              "12   2021      5       JAKARTA PUSAT            SENEN               KRAMAT   \n",
              "13   2021      5  KAB.ADM.KEP.SERIBU  KEP. SERIBU SLT            P. TIDUNG   \n",
              "14   2021      6  KAB.ADM.KEP.SERIBU  KEP. SERIBU SLT              P. PARI   \n",
              "15   2021      6       JAKARTA PUSAT        KEMAYORAN            KEMAYORAN   \n",
              "16   2021      6       JAKARTA PUSAT            SENEN               KENARI   \n",
              "17   2021      7       JAKARTA PUSAT            SENEN              KWITANG   \n",
              "18   2021      7       JAKARTA PUSAT          MENTENG              MENTENG   \n",
              "19   2021      8       JAKARTA PUSAT           GAMBIR               CIDENG   \n",
              "20   2021      8       JAKARTA PUSAT        KEMAYORAN        HARAPAN MULIA   \n",
              "21   2021      8       JAKARTA PUSAT        KEMAYORAN              SERDANG   \n",
              "22   2021      9       JAKARTA PUSAT           GAMBIR         PETOJO UTARA   \n",
              "23   2021     10       JAKARTA PUSAT           GAMBIR       PETOJO SELATAN   \n",
              "24   2021     10       JAKARTA PUSAT    CEMPAKA PUTIH  CEMPAKA PUTIH BARAT   \n",
              "25   2021     11       JAKARTA PUSAT        KEMAYORAN           SUMUR BATU   \n",
              "26   2021     11       JAKARTA PUSAT        KEMAYORAN         CEMPAKA BARU   \n",
              "27   2021     12       JAKARTA PUSAT           GAMBIR         KEBON KELAPA   \n",
              "\n",
              "   jenis_kelamin  jumlah  \n",
              "0      Laki-Laki      38  \n",
              "1      Laki-Laki      40  \n",
              "2      Laki-Laki      45  \n",
              "3      Laki-Laki      47  \n",
              "4      Laki-Laki      48  \n",
              "5      Laki-Laki      50  \n",
              "6      Laki-Laki      58  \n",
              "7      Laki-Laki      68  \n",
              "8      Laki-Laki      69  \n",
              "9      Laki-Laki      75  \n",
              "10     Laki-Laki      63  \n",
              "11     Laki-Laki      66  \n",
              "12     Laki-Laki      71  \n",
              "13     Laki-Laki      74  \n",
              "14     Laki-Laki      76  \n",
              "15     Laki-Laki      78  \n",
              "16     Laki-Laki      81  \n",
              "17     Laki-Laki      85  \n",
              "18     Laki-Laki      86  \n",
              "19     Laki-Laki      88  \n",
              "20     Laki-Laki      84  \n",
              "21     Laki-Laki      90  \n",
              "22     Laki-Laki     101  \n",
              "23     Laki-Laki     113  \n",
              "24     Laki-Laki     115  \n",
              "25     Laki-Laki     118  \n",
              "26     Laki-Laki     119  \n",
              "27     Laki-Laki     128  "
            ],
            "text/html": [
              "\n",
              "  <div id=\"df-413ac768-4f22-4954-9155-2c49d3db1c79\">\n",
              "    <div class=\"colab-df-container\">\n",
              "      <div>\n",
              "<style scoped>\n",
              "    .dataframe tbody tr th:only-of-type {\n",
              "        vertical-align: middle;\n",
              "    }\n",
              "\n",
              "    .dataframe tbody tr th {\n",
              "        vertical-align: top;\n",
              "    }\n",
              "\n",
              "    .dataframe thead th {\n",
              "        text-align: right;\n",
              "    }\n",
              "</style>\n",
              "<table border=\"1\" class=\"dataframe\">\n",
              "  <thead>\n",
              "    <tr style=\"text-align: right;\">\n",
              "      <th></th>\n",
              "      <th>tahun</th>\n",
              "      <th>bulan</th>\n",
              "      <th>nama_kota</th>\n",
              "      <th>nama_kecamatan</th>\n",
              "      <th>nama_kelurahan</th>\n",
              "      <th>jenis_kelamin</th>\n",
              "      <th>jumlah</th>\n",
              "    </tr>\n",
              "  </thead>\n",
              "  <tbody>\n",
              "    <tr>\n",
              "      <th>0</th>\n",
              "      <td>2021</td>\n",
              "      <td>1</td>\n",
              "      <td>JAKARTA PUSAT</td>\n",
              "      <td>SENEN</td>\n",
              "      <td>BUNGUR</td>\n",
              "      <td>Laki-Laki</td>\n",
              "      <td>38</td>\n",
              "    </tr>\n",
              "    <tr>\n",
              "      <th>1</th>\n",
              "      <td>2021</td>\n",
              "      <td>1</td>\n",
              "      <td>JAKARTA PUSAT</td>\n",
              "      <td>GAMBIR</td>\n",
              "      <td>DURI PULO</td>\n",
              "      <td>Laki-Laki</td>\n",
              "      <td>40</td>\n",
              "    </tr>\n",
              "    <tr>\n",
              "      <th>2</th>\n",
              "      <td>2021</td>\n",
              "      <td>1</td>\n",
              "      <td>KAB.ADM.KEP.SERIBU</td>\n",
              "      <td>KEP. SERIBU UTR</td>\n",
              "      <td>P. PANGGANG</td>\n",
              "      <td>Laki-Laki</td>\n",
              "      <td>45</td>\n",
              "    </tr>\n",
              "    <tr>\n",
              "      <th>3</th>\n",
              "      <td>2021</td>\n",
              "      <td>2</td>\n",
              "      <td>JAKARTA PUSAT</td>\n",
              "      <td>SAWAH BESAR</td>\n",
              "      <td>PASAR BARU</td>\n",
              "      <td>Laki-Laki</td>\n",
              "      <td>47</td>\n",
              "    </tr>\n",
              "    <tr>\n",
              "      <th>4</th>\n",
              "      <td>2021</td>\n",
              "      <td>2</td>\n",
              "      <td>KAB.ADM.KEP.SERIBU</td>\n",
              "      <td>KEP. SERIBU UTR</td>\n",
              "      <td>P. KELAPA</td>\n",
              "      <td>Laki-Laki</td>\n",
              "      <td>48</td>\n",
              "    </tr>\n",
              "    <tr>\n",
              "      <th>5</th>\n",
              "      <td>2021</td>\n",
              "      <td>2</td>\n",
              "      <td>JAKARTA PUSAT</td>\n",
              "      <td>SAWAH BESAR</td>\n",
              "      <td>KARANG ANYAR</td>\n",
              "      <td>Laki-Laki</td>\n",
              "      <td>50</td>\n",
              "    </tr>\n",
              "    <tr>\n",
              "      <th>6</th>\n",
              "      <td>2021</td>\n",
              "      <td>2</td>\n",
              "      <td>JAKARTA PUSAT</td>\n",
              "      <td>KEMAYORAN</td>\n",
              "      <td>UTAN PANJANG</td>\n",
              "      <td>Laki-Laki</td>\n",
              "      <td>58</td>\n",
              "    </tr>\n",
              "    <tr>\n",
              "      <th>7</th>\n",
              "      <td>2021</td>\n",
              "      <td>3</td>\n",
              "      <td>KAB.ADM.KEP.SERIBU</td>\n",
              "      <td>KEP. SERIBU UTR</td>\n",
              "      <td>P. HARAPAN</td>\n",
              "      <td>Laki-Laki</td>\n",
              "      <td>68</td>\n",
              "    </tr>\n",
              "    <tr>\n",
              "      <th>8</th>\n",
              "      <td>2021</td>\n",
              "      <td>3</td>\n",
              "      <td>JAKARTA PUSAT</td>\n",
              "      <td>SENEN</td>\n",
              "      <td>SENEN</td>\n",
              "      <td>Laki-Laki</td>\n",
              "      <td>69</td>\n",
              "    </tr>\n",
              "    <tr>\n",
              "      <th>9</th>\n",
              "      <td>2021</td>\n",
              "      <td>3</td>\n",
              "      <td>JAKARTA PUSAT</td>\n",
              "      <td>SAWAH BESAR</td>\n",
              "      <td>GUNUNG SAHARI UTARA</td>\n",
              "      <td>Laki-Laki</td>\n",
              "      <td>75</td>\n",
              "    </tr>\n",
              "    <tr>\n",
              "      <th>10</th>\n",
              "      <td>2021</td>\n",
              "      <td>4</td>\n",
              "      <td>KAB.ADM.KEP.SERIBU</td>\n",
              "      <td>KEP. SERIBU SLT</td>\n",
              "      <td>P. UNTUNG JAWA</td>\n",
              "      <td>Laki-Laki</td>\n",
              "      <td>63</td>\n",
              "    </tr>\n",
              "    <tr>\n",
              "      <th>11</th>\n",
              "      <td>2021</td>\n",
              "      <td>4</td>\n",
              "      <td>JAKARTA PUSAT</td>\n",
              "      <td>SAWAH BESAR</td>\n",
              "      <td>KARTINI</td>\n",
              "      <td>Laki-Laki</td>\n",
              "      <td>66</td>\n",
              "    </tr>\n",
              "    <tr>\n",
              "      <th>12</th>\n",
              "      <td>2021</td>\n",
              "      <td>5</td>\n",
              "      <td>JAKARTA PUSAT</td>\n",
              "      <td>SENEN</td>\n",
              "      <td>KRAMAT</td>\n",
              "      <td>Laki-Laki</td>\n",
              "      <td>71</td>\n",
              "    </tr>\n",
              "    <tr>\n",
              "      <th>13</th>\n",
              "      <td>2021</td>\n",
              "      <td>5</td>\n",
              "      <td>KAB.ADM.KEP.SERIBU</td>\n",
              "      <td>KEP. SERIBU SLT</td>\n",
              "      <td>P. TIDUNG</td>\n",
              "      <td>Laki-Laki</td>\n",
              "      <td>74</td>\n",
              "    </tr>\n",
              "    <tr>\n",
              "      <th>14</th>\n",
              "      <td>2021</td>\n",
              "      <td>6</td>\n",
              "      <td>KAB.ADM.KEP.SERIBU</td>\n",
              "      <td>KEP. SERIBU SLT</td>\n",
              "      <td>P. PARI</td>\n",
              "      <td>Laki-Laki</td>\n",
              "      <td>76</td>\n",
              "    </tr>\n",
              "    <tr>\n",
              "      <th>15</th>\n",
              "      <td>2021</td>\n",
              "      <td>6</td>\n",
              "      <td>JAKARTA PUSAT</td>\n",
              "      <td>KEMAYORAN</td>\n",
              "      <td>KEMAYORAN</td>\n",
              "      <td>Laki-Laki</td>\n",
              "      <td>78</td>\n",
              "    </tr>\n",
              "    <tr>\n",
              "      <th>16</th>\n",
              "      <td>2021</td>\n",
              "      <td>6</td>\n",
              "      <td>JAKARTA PUSAT</td>\n",
              "      <td>SENEN</td>\n",
              "      <td>KENARI</td>\n",
              "      <td>Laki-Laki</td>\n",
              "      <td>81</td>\n",
              "    </tr>\n",
              "    <tr>\n",
              "      <th>17</th>\n",
              "      <td>2021</td>\n",
              "      <td>7</td>\n",
              "      <td>JAKARTA PUSAT</td>\n",
              "      <td>SENEN</td>\n",
              "      <td>KWITANG</td>\n",
              "      <td>Laki-Laki</td>\n",
              "      <td>85</td>\n",
              "    </tr>\n",
              "    <tr>\n",
              "      <th>18</th>\n",
              "      <td>2021</td>\n",
              "      <td>7</td>\n",
              "      <td>JAKARTA PUSAT</td>\n",
              "      <td>MENTENG</td>\n",
              "      <td>MENTENG</td>\n",
              "      <td>Laki-Laki</td>\n",
              "      <td>86</td>\n",
              "    </tr>\n",
              "    <tr>\n",
              "      <th>19</th>\n",
              "      <td>2021</td>\n",
              "      <td>8</td>\n",
              "      <td>JAKARTA PUSAT</td>\n",
              "      <td>GAMBIR</td>\n",
              "      <td>CIDENG</td>\n",
              "      <td>Laki-Laki</td>\n",
              "      <td>88</td>\n",
              "    </tr>\n",
              "    <tr>\n",
              "      <th>20</th>\n",
              "      <td>2021</td>\n",
              "      <td>8</td>\n",
              "      <td>JAKARTA PUSAT</td>\n",
              "      <td>KEMAYORAN</td>\n",
              "      <td>HARAPAN MULIA</td>\n",
              "      <td>Laki-Laki</td>\n",
              "      <td>84</td>\n",
              "    </tr>\n",
              "    <tr>\n",
              "      <th>21</th>\n",
              "      <td>2021</td>\n",
              "      <td>8</td>\n",
              "      <td>JAKARTA PUSAT</td>\n",
              "      <td>KEMAYORAN</td>\n",
              "      <td>SERDANG</td>\n",
              "      <td>Laki-Laki</td>\n",
              "      <td>90</td>\n",
              "    </tr>\n",
              "    <tr>\n",
              "      <th>22</th>\n",
              "      <td>2021</td>\n",
              "      <td>9</td>\n",
              "      <td>JAKARTA PUSAT</td>\n",
              "      <td>GAMBIR</td>\n",
              "      <td>PETOJO UTARA</td>\n",
              "      <td>Laki-Laki</td>\n",
              "      <td>101</td>\n",
              "    </tr>\n",
              "    <tr>\n",
              "      <th>23</th>\n",
              "      <td>2021</td>\n",
              "      <td>10</td>\n",
              "      <td>JAKARTA PUSAT</td>\n",
              "      <td>GAMBIR</td>\n",
              "      <td>PETOJO SELATAN</td>\n",
              "      <td>Laki-Laki</td>\n",
              "      <td>113</td>\n",
              "    </tr>\n",
              "    <tr>\n",
              "      <th>24</th>\n",
              "      <td>2021</td>\n",
              "      <td>10</td>\n",
              "      <td>JAKARTA PUSAT</td>\n",
              "      <td>CEMPAKA PUTIH</td>\n",
              "      <td>CEMPAKA PUTIH BARAT</td>\n",
              "      <td>Laki-Laki</td>\n",
              "      <td>115</td>\n",
              "    </tr>\n",
              "    <tr>\n",
              "      <th>25</th>\n",
              "      <td>2021</td>\n",
              "      <td>11</td>\n",
              "      <td>JAKARTA PUSAT</td>\n",
              "      <td>KEMAYORAN</td>\n",
              "      <td>SUMUR BATU</td>\n",
              "      <td>Laki-Laki</td>\n",
              "      <td>118</td>\n",
              "    </tr>\n",
              "    <tr>\n",
              "      <th>26</th>\n",
              "      <td>2021</td>\n",
              "      <td>11</td>\n",
              "      <td>JAKARTA PUSAT</td>\n",
              "      <td>KEMAYORAN</td>\n",
              "      <td>CEMPAKA BARU</td>\n",
              "      <td>Laki-Laki</td>\n",
              "      <td>119</td>\n",
              "    </tr>\n",
              "    <tr>\n",
              "      <th>27</th>\n",
              "      <td>2021</td>\n",
              "      <td>12</td>\n",
              "      <td>JAKARTA PUSAT</td>\n",
              "      <td>GAMBIR</td>\n",
              "      <td>KEBON KELAPA</td>\n",
              "      <td>Laki-Laki</td>\n",
              "      <td>128</td>\n",
              "    </tr>\n",
              "  </tbody>\n",
              "</table>\n",
              "</div>\n",
              "      <button class=\"colab-df-convert\" onclick=\"convertToInteractive('df-413ac768-4f22-4954-9155-2c49d3db1c79')\"\n",
              "              title=\"Convert this dataframe to an interactive table.\"\n",
              "              style=\"display:none;\">\n",
              "        \n",
              "  <svg xmlns=\"http://www.w3.org/2000/svg\" height=\"24px\"viewBox=\"0 0 24 24\"\n",
              "       width=\"24px\">\n",
              "    <path d=\"M0 0h24v24H0V0z\" fill=\"none\"/>\n",
              "    <path d=\"M18.56 5.44l.94 2.06.94-2.06 2.06-.94-2.06-.94-.94-2.06-.94 2.06-2.06.94zm-11 1L8.5 8.5l.94-2.06 2.06-.94-2.06-.94L8.5 2.5l-.94 2.06-2.06.94zm10 10l.94 2.06.94-2.06 2.06-.94-2.06-.94-.94-2.06-.94 2.06-2.06.94z\"/><path d=\"M17.41 7.96l-1.37-1.37c-.4-.4-.92-.59-1.43-.59-.52 0-1.04.2-1.43.59L10.3 9.45l-7.72 7.72c-.78.78-.78 2.05 0 2.83L4 21.41c.39.39.9.59 1.41.59.51 0 1.02-.2 1.41-.59l7.78-7.78 2.81-2.81c.8-.78.8-2.07 0-2.86zM5.41 20L4 18.59l7.72-7.72 1.47 1.35L5.41 20z\"/>\n",
              "  </svg>\n",
              "      </button>\n",
              "      \n",
              "  <style>\n",
              "    .colab-df-container {\n",
              "      display:flex;\n",
              "      flex-wrap:wrap;\n",
              "      gap: 12px;\n",
              "    }\n",
              "\n",
              "    .colab-df-convert {\n",
              "      background-color: #E8F0FE;\n",
              "      border: none;\n",
              "      border-radius: 50%;\n",
              "      cursor: pointer;\n",
              "      display: none;\n",
              "      fill: #1967D2;\n",
              "      height: 32px;\n",
              "      padding: 0 0 0 0;\n",
              "      width: 32px;\n",
              "    }\n",
              "\n",
              "    .colab-df-convert:hover {\n",
              "      background-color: #E2EBFA;\n",
              "      box-shadow: 0px 1px 2px rgba(60, 64, 67, 0.3), 0px 1px 3px 1px rgba(60, 64, 67, 0.15);\n",
              "      fill: #174EA6;\n",
              "    }\n",
              "\n",
              "    [theme=dark] .colab-df-convert {\n",
              "      background-color: #3B4455;\n",
              "      fill: #D2E3FC;\n",
              "    }\n",
              "\n",
              "    [theme=dark] .colab-df-convert:hover {\n",
              "      background-color: #434B5C;\n",
              "      box-shadow: 0px 1px 3px 1px rgba(0, 0, 0, 0.15);\n",
              "      filter: drop-shadow(0px 1px 2px rgba(0, 0, 0, 0.3));\n",
              "      fill: #FFFFFF;\n",
              "    }\n",
              "  </style>\n",
              "\n",
              "      <script>\n",
              "        const buttonEl =\n",
              "          document.querySelector('#df-413ac768-4f22-4954-9155-2c49d3db1c79 button.colab-df-convert');\n",
              "        buttonEl.style.display =\n",
              "          google.colab.kernel.accessAllowed ? 'block' : 'none';\n",
              "\n",
              "        async function convertToInteractive(key) {\n",
              "          const element = document.querySelector('#df-413ac768-4f22-4954-9155-2c49d3db1c79');\n",
              "          const dataTable =\n",
              "            await google.colab.kernel.invokeFunction('convertToInteractive',\n",
              "                                                     [key], {});\n",
              "          if (!dataTable) return;\n",
              "\n",
              "          const docLinkHtml = 'Like what you see? Visit the ' +\n",
              "            '<a target=\"_blank\" href=https://colab.research.google.com/notebooks/data_table.ipynb>data table notebook</a>'\n",
              "            + ' to learn more about interactive tables.';\n",
              "          element.innerHTML = '';\n",
              "          dataTable['output_type'] = 'display_data';\n",
              "          await google.colab.output.renderOutput(dataTable, element);\n",
              "          const docLink = document.createElement('div');\n",
              "          docLink.innerHTML = docLinkHtml;\n",
              "          element.appendChild(docLink);\n",
              "        }\n",
              "      </script>\n",
              "    </div>\n",
              "  </div>\n",
              "  "
            ]
          },
          "metadata": {},
          "execution_count": 4
        }
      ]
    },
    {
      "cell_type": "code",
      "source": [
        "import matplotlib.pyplot as plt\n",
        "\n",
        "df.plot(kind='scatter', x='bulan', y='jumlah')\n",
        "\n",
        "plt.title('data kesehatan')\n",
        "plt.xlabel('bulan')\n",
        "plt.ylabel('jumlah')\n",
        "plt.xlim(0, 15)\n",
        "plt.ylim(30, 135 )\n",
        "plt.grid(True)\n",
        "plt.show()"
      ],
      "metadata": {
        "colab": {
          "base_uri": "https://localhost:8080/",
          "height": 295
        },
        "id": "-O6RK1B5i53c",
        "outputId": "8e4047ff-9d3b-4aaa-b661-43434858dc71"
      },
      "execution_count": 20,
      "outputs": [
        {
          "output_type": "display_data",
          "data": {
            "text/plain": [
              "<Figure size 432x288 with 1 Axes>"
            ],
            "image/png": "[encoded data removed]"
          },
          "metadata": {
            "needs_background": "light"
          }
        }
      ]
    },
    {
      "cell_type": "code",
      "source": [
        "import numpy as np\n",
        "X = np.array(df['bulan']) \n",
        "y = np.array(df['jumlah']) \n",
        "print(f'X : {X}') \n",
        "print(f'y : {y}')"
      ],
      "metadata": {
        "colab": {
          "base_uri": "https://localhost:8080/"
        },
        "id": "3ZwE1U3ai7IT",
        "outputId": "6c6f9c85-e436-4223-bf27-4177ece31f57"
      },
      "execution_count": 6,
      "outputs": [
        {
          "output_type": "stream",
          "name": "stdout",
          "text": [
            "X : [ 1  1  1  2  2  2  2  3  3  3  4  4  5  5  6  6  6  7  7  8  8  8  9 10\n",
            " 10 11 11 12]\n",
            "y : [ 38  40  45  47  48  50  58  68  69  75  63  66  71  74  76  78  81  85\n",
            "  86  88  84  90 101 113 115 118 119 128]\n"
          ]
        }
      ]
    },
    {
      "cell_type": "code",
      "source": [
        "X = X.reshape(-1, 1)\n",
        "X.shape"
      ],
      "metadata": {
        "colab": {
          "base_uri": "https://localhost:8080/"
        },
        "id": "KwAVdnwjjmfL",
        "outputId": "beeff2ea-d872-4341-a32d-9abeab1b5363"
      },
      "execution_count": 7,
      "outputs": [
        {
          "output_type": "execute_result",
          "data": {
            "text/plain": [
              "(28, 1)"
            ]
          },
          "metadata": {},
          "execution_count": 7
        }
      ]
    },
    {
      "cell_type": "code",
      "source": [
        "X"
      ],
      "metadata": {
        "colab": {
          "base_uri": "https://localhost:8080/"
        },
        "id": "4IPL6Kllj2uE",
        "outputId": "7317c8f5-c436-458a-af96-ebf7ebc998b0"
      },
      "execution_count": 8,
      "outputs": [
        {
          "output_type": "execute_result",
          "data": {
            "text/plain": [
              "array([[ 1],\n",
              "       [ 1],\n",
              "       [ 1],\n",
              "       [ 2],\n",
              "       [ 2],\n",
              "       [ 2],\n",
              "       [ 2],\n",
              "       [ 3],\n",
              "       [ 3],\n",
              "       [ 3],\n",
              "       [ 4],\n",
              "       [ 4],\n",
              "       [ 5],\n",
              "       [ 5],\n",
              "       [ 6],\n",
              "       [ 6],\n",
              "       [ 6],\n",
              "       [ 7],\n",
              "       [ 7],\n",
              "       [ 8],\n",
              "       [ 8],\n",
              "       [ 8],\n",
              "       [ 9],\n",
              "       [10],\n",
              "       [10],\n",
              "       [11],\n",
              "       [11],\n",
              "       [12]])"
            ]
          },
          "metadata": {},
          "execution_count": 8
        }
      ]
    },
    {
      "cell_type": "code",
      "source": [
        "from sklearn.linear_model import LinearRegression\n",
        "model = LinearRegression() \n",
        "\n",
        "model.fit(X, y)"
      ],
      "metadata": {
        "colab": {
          "base_uri": "https://localhost:8080/"
        },
        "id": "A64uPGOmj30c",
        "outputId": "d6947a05-1223-4b90-b386-7cf040eeaa3e"
      },
      "execution_count": 9,
      "outputs": [
        {
          "output_type": "execute_result",
          "data": {
            "text/plain": [
              "LinearRegression()"
            ]
          },
          "metadata": {},
          "execution_count": 9
        }
      ]
    },
    {
      "cell_type": "code",
      "source": [
        "X_vis = np.array([0, 10000]).reshape(-1, 1)\n",
        "y_vis = model.predict(X_vis) "
      ],
      "metadata": {
        "id": "CKe4HGvfkJaO"
      },
      "execution_count": 10,
      "outputs": []
    },
    {
      "cell_type": "code",
      "source": [
        "plt.scatter(X, y)\n",
        "plt.plot(X_vis, y_vis,'-r')\n",
        "\n",
        "plt.title('data kesehatan')\n",
        "plt.xlabel('bulan')\n",
        "plt.ylabel('jumlah')\n",
        "plt.xlim(0, 14)\n",
        "plt.ylim(30, 135 )\n",
        "plt.grid(True)\n",
        "plt.show()"
      ],
      "metadata": {
        "colab": {
          "base_uri": "https://localhost:8080/",
          "height": 295
        },
        "id": "UiURa7P5kLne",
        "outputId": "7e7a9c43-ff42-4107-f6b1-e6e6e25f6da4"
      },
      "execution_count": 11,
      "outputs": [
        {
          "output_type": "display_data",
          "data": {
            "text/plain": [
              "<Figure size 432x288 with 1 Axes>"
            ],
            "image/png": "[encoded data removed]"
          },
          "metadata": {
            "needs_background": "light"
          }
        }
      ]
    },
    {
      "cell_type": "code",
      "source": [
        "print(f'intercept : {model.intercept_}')\n",
        "print(f'slope : {model.coef_}')"
      ],
      "metadata": {
        "colab": {
          "base_uri": "https://localhost:8080/"
        },
        "id": "wdK1tEMXmC2B",
        "outputId": "a341f7e8-6205-4b66-f8df-9179f29c078c"
      },
      "execution_count": 12,
      "outputs": [
        {
          "output_type": "stream",
          "name": "stdout",
          "text": [
            "intercept : 37.275271273557955\n",
            "slope : [7.19931468]\n"
          ]
        }
      ]
    },
    {
      "cell_type": "code",
      "source": [
        "bulan = np.array([1, 3, 7, 5,11]).reshape(-1, 1)\n",
        "bulan"
      ],
      "metadata": {
        "colab": {
          "base_uri": "https://localhost:8080/"
        },
        "id": "nKF2E2J8nSQM",
        "outputId": "63c8778a-f2c9-4d2a-f815-5f9a8469fc78"
      },
      "execution_count": 13,
      "outputs": [
        {
          "output_type": "execute_result",
          "data": {
            "text/plain": [
              "array([[ 1],\n",
              "       [ 3],\n",
              "       [ 7],\n",
              "       [ 5],\n",
              "       [11]])"
            ]
          },
          "metadata": {},
          "execution_count": 13
        }
      ]
    },
    {
      "cell_type": "code",
      "source": [
        "prediksi_bulan = model.predict(bulan)\n",
        "prediksi_bulan"
      ],
      "metadata": {
        "colab": {
          "base_uri": "https://localhost:8080/"
        },
        "id": "blOfQKaMngu3",
        "outputId": "a8715300-59fb-4b6d-baae-b441c187b2b1"
      },
      "execution_count": 14,
      "outputs": [
        {
          "output_type": "execute_result",
          "data": {
            "text/plain": [
              "array([ 44.47458595,  58.87321531,  87.67047401,  73.27184466,\n",
              "       116.46773272])"
            ]
          },
          "metadata": {},
          "execution_count": 14
        }
      ]
    },
    {
      "cell_type": "code",
      "source": [
        "for bulan, index in zip (bulan, prediksi_bulan) : \n",
        "  print(f'bulan : {bulan} prediksi bulan : {index}')"
      ],
      "metadata": {
        "colab": {
          "base_uri": "https://localhost:8080/"
        },
        "id": "3i3NX0svnoFw",
        "outputId": "1cce0c5e-0185-45bb-8077-9eb05dc81542"
      },
      "execution_count": 15,
      "outputs": [
        {
          "output_type": "stream",
          "name": "stdout",
          "text": [
            "bulan : [1] prediksi bulan : 44.4745859508852\n",
            "bulan : [3] prediksi bulan : 58.87321530553969\n",
            "bulan : [7] prediksi bulan : 87.67047401484865\n",
            "bulan : [5] prediksi bulan : 73.27184466019418\n",
            "bulan : [11] prediksi bulan : 116.46773272415763\n"
          ]
        }
      ]
    },
    {
      "cell_type": "code",
      "source": [
        "fig = plt.figure()\n",
        "ax = fig.add_axes([0, 0, 1, 1])\n",
        "indeks_x = (df['bulan'])\n",
        "indeks_y= (df['jumlah'])\n",
        "c = ['red','yellow','green','blue','pink','black']\n",
        "plt.title(\"Data Pembuatan Akta kelahiran\")\n",
        "plt.xlabel(\"bulan\")\n",
        "plt.ylabel(\"jumlah akta\")\n",
        "plt.bar(indeks_x, indeks_y, color = c)\n",
        "plt.grid(True)\n",
        "plt.show()"
      ],
      "metadata": {
        "colab": {
          "base_uri": "https://localhost:8080/",
          "height": 366
        },
        "id": "9F2fYNbln3KT",
        "outputId": "10a4d55b-1a09-4c18-e860-47ebd4fb0288"
      },
      "execution_count": 18,
      "outputs": [
        {
          "output_type": "display_data",
          "data": {
            "text/plain": [
              "<Figure size 432x288 with 1 Axes>"
            ],
            "image/png": "[encoded data removed]"
          },
          "metadata": {
            "needs_background": "light"
          }
        }
      ]
    },
    {
      "cell_type": "code",
      "source": [
        "fig = plt.figure()\n",
        "ax = fig.add_axes([0, 0, 1,1])\n",
        "ax.axis('equal')\n",
        "indeks_x = (df['bulan'])\n",
        "indeks_y= (df['jumlah'])\n",
        "\n",
        "ax.pie(indeks_y,labels=indeks_x,autopct='%1.2f%%',)\n",
        "plt.title(\"Data Pembuatan Akta kelahiran\")\n",
        "plt.show()"
      ],
      "metadata": {
        "colab": {
          "base_uri": "https://localhost:8080/",
          "height": 335
        },
        "id": "YzhXQrm-oD10",
        "outputId": "ca3a557d-0499-44b7-e921-d459cf712f05"
      },
      "execution_count": 19,
      "outputs": [
        {
          "output_type": "display_data",
          "data": {
            "text/plain": [
              "<Figure size 432x288 with 1 Axes>"
            ],
            "image/png": "[encoded data removed]"
          },
          "metadata": {}
        }
      ]
    }
  ]
}